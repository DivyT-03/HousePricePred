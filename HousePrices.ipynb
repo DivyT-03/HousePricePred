{
 "cells": [
  {
   "cell_type": "markdown",
   "metadata": {},
   "source": [
    "# Home LLC Submission\n",
    "\n",
    "Importing Necessary Libraries for Manipulating Data"
   ]
  },
  {
   "cell_type": "code",
   "execution_count": 1,
   "metadata": {},
   "outputs": [],
   "source": [
    "import pandas as pd\n",
    "import numpy as np"
   ]
  },
  {
   "cell_type": "markdown",
   "metadata": {},
   "source": [
    "# Importing the Given Data set\n",
    "\n",
    "This Dataset contains House price index for the past years"
   ]
  },
  {
   "cell_type": "code",
   "execution_count": 2,
   "metadata": {},
   "outputs": [
    {
     "data": {
      "text/html": [
       "<div>\n",
       "<style scoped>\n",
       "    .dataframe tbody tr th:only-of-type {\n",
       "        vertical-align: middle;\n",
       "    }\n",
       "\n",
       "    .dataframe tbody tr th {\n",
       "        vertical-align: top;\n",
       "    }\n",
       "\n",
       "    .dataframe thead th {\n",
       "        text-align: right;\n",
       "    }\n",
       "</style>\n",
       "<table border=\"1\" class=\"dataframe\">\n",
       "  <thead>\n",
       "    <tr style=\"text-align: right;\">\n",
       "      <th></th>\n",
       "      <th>DATE</th>\n",
       "      <th>CSUSHPISA</th>\n",
       "    </tr>\n",
       "  </thead>\n",
       "  <tbody>\n",
       "    <tr>\n",
       "      <th>0</th>\n",
       "      <td>1/1/1987</td>\n",
       "      <td>63.965</td>\n",
       "    </tr>\n",
       "    <tr>\n",
       "      <th>1</th>\n",
       "      <td>2/1/1987</td>\n",
       "      <td>64.425</td>\n",
       "    </tr>\n",
       "    <tr>\n",
       "      <th>2</th>\n",
       "      <td>3/1/1987</td>\n",
       "      <td>64.736</td>\n",
       "    </tr>\n",
       "    <tr>\n",
       "      <th>3</th>\n",
       "      <td>4/1/1987</td>\n",
       "      <td>65.135</td>\n",
       "    </tr>\n",
       "    <tr>\n",
       "      <th>4</th>\n",
       "      <td>5/1/1987</td>\n",
       "      <td>65.569</td>\n",
       "    </tr>\n",
       "  </tbody>\n",
       "</table>\n",
       "</div>"
      ],
      "text/plain": [
       "       DATE  CSUSHPISA\n",
       "0  1/1/1987     63.965\n",
       "1  2/1/1987     64.425\n",
       "2  3/1/1987     64.736\n",
       "3  4/1/1987     65.135\n",
       "4  5/1/1987     65.569"
      ]
     },
     "execution_count": 2,
     "metadata": {},
     "output_type": "execute_result"
    }
   ],
   "source": [
    "HPI=pd.read_csv(\"C:\\\\Users\\\\inasu\\\\Downloads\\\\CSUSHPISA.csv\")\n",
    "HPI.head()"
   ]
  },
  {
   "cell_type": "markdown",
   "metadata": {},
   "source": [
    "As we have to find which factors impacted home prices over the last 20 years, so we remove the data before that"
   ]
  },
  {
   "cell_type": "code",
   "execution_count": 3,
   "metadata": {},
   "outputs": [
    {
     "data": {
      "text/html": [
       "<div>\n",
       "<style scoped>\n",
       "    .dataframe tbody tr th:only-of-type {\n",
       "        vertical-align: middle;\n",
       "    }\n",
       "\n",
       "    .dataframe tbody tr th {\n",
       "        vertical-align: top;\n",
       "    }\n",
       "\n",
       "    .dataframe thead th {\n",
       "        text-align: right;\n",
       "    }\n",
       "</style>\n",
       "<table border=\"1\" class=\"dataframe\">\n",
       "  <thead>\n",
       "    <tr style=\"text-align: right;\">\n",
       "      <th></th>\n",
       "      <th>Date</th>\n",
       "      <th>HPI</th>\n",
       "    </tr>\n",
       "  </thead>\n",
       "  <tbody>\n",
       "    <tr>\n",
       "      <th>0</th>\n",
       "      <td>1/1/2000</td>\n",
       "      <td>100.552</td>\n",
       "    </tr>\n",
       "    <tr>\n",
       "      <th>1</th>\n",
       "      <td>2/1/2000</td>\n",
       "      <td>101.339</td>\n",
       "    </tr>\n",
       "    <tr>\n",
       "      <th>2</th>\n",
       "      <td>3/1/2000</td>\n",
       "      <td>102.127</td>\n",
       "    </tr>\n",
       "    <tr>\n",
       "      <th>3</th>\n",
       "      <td>4/1/2000</td>\n",
       "      <td>102.922</td>\n",
       "    </tr>\n",
       "    <tr>\n",
       "      <th>4</th>\n",
       "      <td>5/1/2000</td>\n",
       "      <td>103.677</td>\n",
       "    </tr>\n",
       "  </tbody>\n",
       "</table>\n",
       "</div>"
      ],
      "text/plain": [
       "       Date      HPI\n",
       "0  1/1/2000  100.552\n",
       "1  2/1/2000  101.339\n",
       "2  3/1/2000  102.127\n",
       "3  4/1/2000  102.922\n",
       "4  5/1/2000  103.677"
      ]
     },
     "execution_count": 3,
     "metadata": {},
     "output_type": "execute_result"
    }
   ],
   "source": [
    "HPI=HPI[pd.DatetimeIndex(HPI['DATE']).year>=2000].reset_index(drop=True)\n",
    "HPI.rename(columns={\"DATE\":\"Date\",\"CSUSHPISA\": \"HPI\"}, inplace = True)\n",
    "HPI.head()"
   ]
  },
  {
   "cell_type": "code",
   "execution_count": 4,
   "metadata": {},
   "outputs": [
    {
     "data": {
      "image/png": "[encoded data removed]",
      "text/plain": [
       "<Figure size 432x288 with 1 Axes>"
      ]
     },
     "metadata": {
      "needs_background": "light"
     },
     "output_type": "display_data"
    }
   ],
   "source": [
    "import matplotlib.pyplot as plt\n",
    "\n",
    "def plot_basic(df, title='House Price Index', y_label='House Price Index', x_label='Date'):\n",
    "    #Creating a figure and a subplot to plot the values\n",
    "    fig, ax = plt.subplots()\n",
    "    \n",
    "    #plotting the values on the graph\n",
    "    ax.plot(df['Date'], df['HPI'], '#0A7388')\n",
    "\n",
    "    # Add title and labels\n",
    "    ax.set_title(title)\n",
    "    plt.ylabel(y_label)\n",
    "    plt.xlabel(x_label)\n",
    "\n",
    "    plt.show()\n",
    "    \n",
    "plot_basic(HPI)"
   ]
  },
  {
   "cell_type": "markdown",
   "metadata": {},
   "source": [
    "# Income\n",
    "\n",
    "Wages Dataset contains the Average income of households in US"
   ]
  },
  {
   "cell_type": "code",
   "execution_count": 5,
   "metadata": {},
   "outputs": [
    {
     "data": {
      "text/html": [
       "<div>\n",
       "<style scoped>\n",
       "    .dataframe tbody tr th:only-of-type {\n",
       "        vertical-align: middle;\n",
       "    }\n",
       "\n",
       "    .dataframe tbody tr th {\n",
       "        vertical-align: top;\n",
       "    }\n",
       "\n",
       "    .dataframe thead th {\n",
       "        text-align: right;\n",
       "    }\n",
       "</style>\n",
       "<table border=\"1\" class=\"dataframe\">\n",
       "  <thead>\n",
       "    <tr style=\"text-align: right;\">\n",
       "      <th></th>\n",
       "      <th>Year</th>\n",
       "      <th>Average_Household_Income</th>\n",
       "    </tr>\n",
       "  </thead>\n",
       "  <tbody>\n",
       "    <tr>\n",
       "      <th>0</th>\n",
       "      <td>1990</td>\n",
       "      <td>54621</td>\n",
       "    </tr>\n",
       "    <tr>\n",
       "      <th>1</th>\n",
       "      <td>1991</td>\n",
       "      <td>53025</td>\n",
       "    </tr>\n",
       "    <tr>\n",
       "      <th>2</th>\n",
       "      <td>1992</td>\n",
       "      <td>52615</td>\n",
       "    </tr>\n",
       "    <tr>\n",
       "      <th>3</th>\n",
       "      <td>1993</td>\n",
       "      <td>52334</td>\n",
       "    </tr>\n",
       "    <tr>\n",
       "      <th>4</th>\n",
       "      <td>1994</td>\n",
       "      <td>52942</td>\n",
       "    </tr>\n",
       "  </tbody>\n",
       "</table>\n",
       "</div>"
      ],
      "text/plain": [
       "   Year  Average_Household_Income\n",
       "0  1990                     54621\n",
       "1  1991                     53025\n",
       "2  1992                     52615\n",
       "3  1993                     52334\n",
       "4  1994                     52942"
      ]
     },
     "execution_count": 5,
     "metadata": {},
     "output_type": "execute_result"
    }
   ],
   "source": [
    "Wages=pd.read_csv(\"C:\\\\Users\\\\inasu\\\\Downloads\\\\Houses\\\\Average_Household_Income.csv\")\n",
    "Wages.head()"
   ]
  },
  {
   "cell_type": "code",
   "execution_count": 6,
   "metadata": {},
   "outputs": [
    {
     "data": {
      "text/html": [
       "<div>\n",
       "<style scoped>\n",
       "    .dataframe tbody tr th:only-of-type {\n",
       "        vertical-align: middle;\n",
       "    }\n",
       "\n",
       "    .dataframe tbody tr th {\n",
       "        vertical-align: top;\n",
       "    }\n",
       "\n",
       "    .dataframe thead th {\n",
       "        text-align: right;\n",
       "    }\n",
       "</style>\n",
       "<table border=\"1\" class=\"dataframe\">\n",
       "  <thead>\n",
       "    <tr style=\"text-align: right;\">\n",
       "      <th></th>\n",
       "      <th>Year</th>\n",
       "      <th>Average_Household_Income</th>\n",
       "    </tr>\n",
       "  </thead>\n",
       "  <tbody>\n",
       "    <tr>\n",
       "      <th>0</th>\n",
       "      <td>2000</td>\n",
       "      <td>59938</td>\n",
       "    </tr>\n",
       "    <tr>\n",
       "      <th>1</th>\n",
       "      <td>2001</td>\n",
       "      <td>58609</td>\n",
       "    </tr>\n",
       "    <tr>\n",
       "      <th>2</th>\n",
       "      <td>2002</td>\n",
       "      <td>57947</td>\n",
       "    </tr>\n",
       "    <tr>\n",
       "      <th>3</th>\n",
       "      <td>2003</td>\n",
       "      <td>57875</td>\n",
       "    </tr>\n",
       "    <tr>\n",
       "      <th>4</th>\n",
       "      <td>2004</td>\n",
       "      <td>57674</td>\n",
       "    </tr>\n",
       "  </tbody>\n",
       "</table>\n",
       "</div>"
      ],
      "text/plain": [
       "   Year  Average_Household_Income\n",
       "0  2000                     59938\n",
       "1  2001                     58609\n",
       "2  2002                     57947\n",
       "3  2003                     57875\n",
       "4  2004                     57674"
      ]
     },
     "execution_count": 6,
     "metadata": {},
     "output_type": "execute_result"
    }
   ],
   "source": [
    "Wages=Wages[Wages['Year']>=2000].reset_index(drop=True)\n",
    "Wages.head()"
   ]
  },
  {
   "cell_type": "code",
   "execution_count": 7,
   "metadata": {},
   "outputs": [
    {
     "data": {
      "text/html": [
       "<div>\n",
       "<style scoped>\n",
       "    .dataframe tbody tr th:only-of-type {\n",
       "        vertical-align: middle;\n",
       "    }\n",
       "\n",
       "    .dataframe tbody tr th {\n",
       "        vertical-align: top;\n",
       "    }\n",
       "\n",
       "    .dataframe thead th {\n",
       "        text-align: right;\n",
       "    }\n",
       "</style>\n",
       "<table border=\"1\" class=\"dataframe\">\n",
       "  <thead>\n",
       "    <tr style=\"text-align: right;\">\n",
       "      <th></th>\n",
       "      <th>Year</th>\n",
       "      <th>Average_Household_Income</th>\n",
       "      <th>HPI</th>\n",
       "    </tr>\n",
       "  </thead>\n",
       "  <tbody>\n",
       "    <tr>\n",
       "      <th>0</th>\n",
       "      <td>2000</td>\n",
       "      <td>59938</td>\n",
       "      <td>104.767917</td>\n",
       "    </tr>\n",
       "    <tr>\n",
       "      <th>1</th>\n",
       "      <td>2001</td>\n",
       "      <td>58609</td>\n",
       "      <td>113.178500</td>\n",
       "    </tr>\n",
       "    <tr>\n",
       "      <th>2</th>\n",
       "      <td>2002</td>\n",
       "      <td>57947</td>\n",
       "      <td>122.278250</td>\n",
       "    </tr>\n",
       "    <tr>\n",
       "      <th>3</th>\n",
       "      <td>2003</td>\n",
       "      <td>57875</td>\n",
       "      <td>133.730833</td>\n",
       "    </tr>\n",
       "    <tr>\n",
       "      <th>4</th>\n",
       "      <td>2004</td>\n",
       "      <td>57674</td>\n",
       "      <td>150.439250</td>\n",
       "    </tr>\n",
       "  </tbody>\n",
       "</table>\n",
       "</div>"
      ],
      "text/plain": [
       "   Year  Average_Household_Income         HPI\n",
       "0  2000                     59938  104.767917\n",
       "1  2001                     58609  113.178500\n",
       "2  2002                     57947  122.278250\n",
       "3  2003                     57875  133.730833\n",
       "4  2004                     57674  150.439250"
      ]
     },
     "execution_count": 7,
     "metadata": {},
     "output_type": "execute_result"
    }
   ],
   "source": [
    "Wages=Wages.merge(HPI.groupby(pd.DatetimeIndex(HPI['Date']).year).mean(), left_on='Year', right_on='Date')\n",
    "Wages.head()"
   ]
  },
  {
   "cell_type": "code",
   "execution_count": 8,
   "metadata": {},
   "outputs": [
    {
     "data": {
      "image/png": "[encoded data removed]",
      "text/plain": [
       "<Figure size 432x288 with 1 Axes>"
      ]
     },
     "metadata": {
      "needs_background": "light"
     },
     "output_type": "display_data"
    }
   ],
   "source": [
    "from sklearn.preprocessing import MinMaxScaler\n",
    "scaler = MinMaxScaler()\n",
    "\n",
    "def plot_basic(df, title='House Price Index vs Household Income'):\n",
    "    #Fitting both the values on same scale for comparasion\n",
    "    scaler.fit(df)\n",
    "    df=pd.DataFrame(scaler.transform(df),columns=[\"Year\",\"Salary\",\"HPI\"])\n",
    "    \n",
    "    #Creating a figure and a subplot to plot the values\n",
    "    fig, ax = plt.subplots()\n",
    "    \n",
    "    #plotting the values on the graph\n",
    "    ax.plot(df['Year'], df[\"Salary\"], 'blue')\n",
    "    ax.plot(df['Year'], df[\"HPI\"], 'red')\n",
    "\n",
    "    # Add title and labels\n",
    "    ax.set_title(title)\n",
    "    plt.show()\n",
    "    \n",
    "plot_basic(Wages)"
   ]
  },
  {
   "cell_type": "code",
   "execution_count": 9,
   "metadata": {},
   "outputs": [
    {
     "data": {
      "text/html": [
       "<div>\n",
       "<style scoped>\n",
       "    .dataframe tbody tr th:only-of-type {\n",
       "        vertical-align: middle;\n",
       "    }\n",
       "\n",
       "    .dataframe tbody tr th {\n",
       "        vertical-align: top;\n",
       "    }\n",
       "\n",
       "    .dataframe thead th {\n",
       "        text-align: right;\n",
       "    }\n",
       "</style>\n",
       "<table border=\"1\" class=\"dataframe\">\n",
       "  <thead>\n",
       "    <tr style=\"text-align: right;\">\n",
       "      <th></th>\n",
       "      <th>Year</th>\n",
       "      <th>Average_Household_Income</th>\n",
       "      <th>HPI</th>\n",
       "    </tr>\n",
       "  </thead>\n",
       "  <tbody>\n",
       "    <tr>\n",
       "      <th>Year</th>\n",
       "      <td>1.000000</td>\n",
       "      <td>0.394820</td>\n",
       "      <td>0.755706</td>\n",
       "    </tr>\n",
       "    <tr>\n",
       "      <th>Average_Household_Income</th>\n",
       "      <td>0.394820</td>\n",
       "      <td>1.000000</td>\n",
       "      <td>0.610276</td>\n",
       "    </tr>\n",
       "    <tr>\n",
       "      <th>HPI</th>\n",
       "      <td>0.755706</td>\n",
       "      <td>0.610276</td>\n",
       "      <td>1.000000</td>\n",
       "    </tr>\n",
       "  </tbody>\n",
       "</table>\n",
       "</div>"
      ],
      "text/plain": [
       "                              Year  Average_Household_Income       HPI\n",
       "Year                      1.000000                  0.394820  0.755706\n",
       "Average_Household_Income  0.394820                  1.000000  0.610276\n",
       "HPI                       0.755706                  0.610276  1.000000"
      ]
     },
     "execution_count": 9,
     "metadata": {},
     "output_type": "execute_result"
    }
   ],
   "source": [
    "Wages.corr()"
   ]
  },
  {
   "cell_type": "code",
   "execution_count": 10,
   "metadata": {},
   "outputs": [
    {
     "data": {
      "image/png": "[encoded data removed]",
      "text/plain": [
       "<Figure size 432x288 with 2 Axes>"
      ]
     },
     "metadata": {
      "needs_background": "light"
     },
     "output_type": "display_data"
    }
   ],
   "source": [
    "import seaborn as sns\n",
    "\n",
    "ax = sns.heatmap(\n",
    "    Wages.corr(),                                  #Passing arguement whose heatmap is to be made\n",
    "    vmin=-1, vmax=1, center=0,                  #Defining dimensions of heatmap\n",
    "    cmap=sns.diverging_palette(20, 220, n=200), #Defining Colorpalatte for heatmap\n",
    "    square=True\n",
    ")\n",
    "\n",
    "ax.set_xticklabels(\n",
    "    ax.get_xticklabels(),\n",
    "    rotation=45,\n",
    "    horizontalalignment='right'\n",
    ");"
   ]
  },
  {
   "cell_type": "markdown",
   "metadata": {},
   "source": [
    "We can say that Household income is an important factor to decide house prices"
   ]
  },
  {
   "cell_type": "markdown",
   "metadata": {},
   "source": [
    "# Unemployment and Underemployment"
   ]
  },
  {
   "cell_type": "markdown",
   "metadata": {},
   "source": [
    "## Unemployment"
   ]
  },
  {
   "cell_type": "markdown",
   "metadata": {},
   "source": [
    "Unemployment Dataset contains the info about unemployed people in the US"
   ]
  },
  {
   "cell_type": "code",
   "execution_count": 11,
   "metadata": {},
   "outputs": [
    {
     "data": {
      "text/html": [
       "<div>\n",
       "<style scoped>\n",
       "    .dataframe tbody tr th:only-of-type {\n",
       "        vertical-align: middle;\n",
       "    }\n",
       "\n",
       "    .dataframe tbody tr th {\n",
       "        vertical-align: top;\n",
       "    }\n",
       "\n",
       "    .dataframe thead th {\n",
       "        text-align: right;\n",
       "    }\n",
       "</style>\n",
       "<table border=\"1\" class=\"dataframe\">\n",
       "  <thead>\n",
       "    <tr style=\"text-align: right;\">\n",
       "      <th></th>\n",
       "      <th>Date</th>\n",
       "      <th>Young workers</th>\n",
       "      <th>All workers</th>\n",
       "      <th>Recent graduates</th>\n",
       "      <th>College graduates</th>\n",
       "    </tr>\n",
       "  </thead>\n",
       "  <tbody>\n",
       "    <tr>\n",
       "      <th>0</th>\n",
       "      <td>1/1/1990</td>\n",
       "      <td>7.6</td>\n",
       "      <td>5.1</td>\n",
       "      <td>3.4</td>\n",
       "      <td>2.3</td>\n",
       "    </tr>\n",
       "    <tr>\n",
       "      <th>1</th>\n",
       "      <td>2/1/1990</td>\n",
       "      <td>7.6</td>\n",
       "      <td>5.1</td>\n",
       "      <td>3.0</td>\n",
       "      <td>2.2</td>\n",
       "    </tr>\n",
       "    <tr>\n",
       "      <th>2</th>\n",
       "      <td>3/1/1990</td>\n",
       "      <td>7.6</td>\n",
       "      <td>5.1</td>\n",
       "      <td>3.1</td>\n",
       "      <td>2.2</td>\n",
       "    </tr>\n",
       "    <tr>\n",
       "      <th>3</th>\n",
       "      <td>4/1/1990</td>\n",
       "      <td>7.7</td>\n",
       "      <td>5.1</td>\n",
       "      <td>3.6</td>\n",
       "      <td>2.2</td>\n",
       "    </tr>\n",
       "    <tr>\n",
       "      <th>4</th>\n",
       "      <td>5/1/1990</td>\n",
       "      <td>7.7</td>\n",
       "      <td>5.1</td>\n",
       "      <td>3.9</td>\n",
       "      <td>2.2</td>\n",
       "    </tr>\n",
       "  </tbody>\n",
       "</table>\n",
       "</div>"
      ],
      "text/plain": [
       "       Date  Young workers  All workers  Recent graduates  College graduates\n",
       "0  1/1/1990            7.6          5.1               3.4                2.3\n",
       "1  2/1/1990            7.6          5.1               3.0                2.2\n",
       "2  3/1/1990            7.6          5.1               3.1                2.2\n",
       "3  4/1/1990            7.7          5.1               3.6                2.2\n",
       "4  5/1/1990            7.7          5.1               3.9                2.2"
      ]
     },
     "execution_count": 11,
     "metadata": {},
     "output_type": "execute_result"
    }
   ],
   "source": [
    "Unemployment=pd.read_csv(\"C:\\\\Users\\\\inasu\\\\Downloads\\\\Houses\\\\Unemployment_rate.csv\")\n",
    "Unemployment.head()"
   ]
  },
  {
   "cell_type": "code",
   "execution_count": 12,
   "metadata": {},
   "outputs": [
    {
     "data": {
      "text/html": [
       "<div>\n",
       "<style scoped>\n",
       "    .dataframe tbody tr th:only-of-type {\n",
       "        vertical-align: middle;\n",
       "    }\n",
       "\n",
       "    .dataframe tbody tr th {\n",
       "        vertical-align: top;\n",
       "    }\n",
       "\n",
       "    .dataframe thead th {\n",
       "        text-align: right;\n",
       "    }\n",
       "</style>\n",
       "<table border=\"1\" class=\"dataframe\">\n",
       "  <thead>\n",
       "    <tr style=\"text-align: right;\">\n",
       "      <th></th>\n",
       "      <th>Date</th>\n",
       "      <th>Young workers</th>\n",
       "      <th>All workers</th>\n",
       "      <th>Recent graduates</th>\n",
       "      <th>College graduates</th>\n",
       "      <th>HPI</th>\n",
       "    </tr>\n",
       "  </thead>\n",
       "  <tbody>\n",
       "    <tr>\n",
       "      <th>235</th>\n",
       "      <td>8/1/2019</td>\n",
       "      <td>6.2</td>\n",
       "      <td>3.5</td>\n",
       "      <td>4.2</td>\n",
       "      <td>2.2</td>\n",
       "      <td>210.186</td>\n",
       "    </tr>\n",
       "    <tr>\n",
       "      <th>236</th>\n",
       "      <td>9/1/2019</td>\n",
       "      <td>6.4</td>\n",
       "      <td>3.5</td>\n",
       "      <td>4.1</td>\n",
       "      <td>2.2</td>\n",
       "      <td>210.879</td>\n",
       "    </tr>\n",
       "    <tr>\n",
       "      <th>237</th>\n",
       "      <td>10/1/2019</td>\n",
       "      <td>6.5</td>\n",
       "      <td>3.5</td>\n",
       "      <td>3.7</td>\n",
       "      <td>2.2</td>\n",
       "      <td>211.593</td>\n",
       "    </tr>\n",
       "    <tr>\n",
       "      <th>238</th>\n",
       "      <td>11/1/2019</td>\n",
       "      <td>6.6</td>\n",
       "      <td>3.5</td>\n",
       "      <td>3.5</td>\n",
       "      <td>2.1</td>\n",
       "      <td>212.509</td>\n",
       "    </tr>\n",
       "    <tr>\n",
       "      <th>239</th>\n",
       "      <td>12/1/2019</td>\n",
       "      <td>6.6</td>\n",
       "      <td>3.6</td>\n",
       "      <td>3.7</td>\n",
       "      <td>2.1</td>\n",
       "      <td>213.501</td>\n",
       "    </tr>\n",
       "  </tbody>\n",
       "</table>\n",
       "</div>"
      ],
      "text/plain": [
       "          Date  Young workers  All workers  Recent graduates  \\\n",
       "235   8/1/2019            6.2          3.5               4.2   \n",
       "236   9/1/2019            6.4          3.5               4.1   \n",
       "237  10/1/2019            6.5          3.5               3.7   \n",
       "238  11/1/2019            6.6          3.5               3.5   \n",
       "239  12/1/2019            6.6          3.6               3.7   \n",
       "\n",
       "     College graduates      HPI  \n",
       "235                2.2  210.186  \n",
       "236                2.2  210.879  \n",
       "237                2.2  211.593  \n",
       "238                2.1  212.509  \n",
       "239                2.1  213.501  "
      ]
     },
     "execution_count": 12,
     "metadata": {},
     "output_type": "execute_result"
    }
   ],
   "source": [
    "Unemployment=Unemployment.merge(HPI, left_on='Date', right_on='Date')\n",
    "Unemployment=Unemployment[:-6] #Removing the 2020 Data as there was a sudden rise in Unemployment\n",
    "Unemployment.tail()"
   ]
  },
  {
   "cell_type": "code",
   "execution_count": 13,
   "metadata": {},
   "outputs": [
    {
     "data": {
      "image/png": "[encoded data removed]",
      "text/plain": [
       "<Figure size 432x288 with 1 Axes>"
      ]
     },
     "metadata": {
      "needs_background": "light"
     },
     "output_type": "display_data"
    }
   ],
   "source": [
    "def plot_basic(df, title='House Price Index vs Unemployment'):\n",
    "    #Fitting both the values on same scale for comparasion\n",
    "    scaler.fit(df[[\"All workers\",\"HPI\"]])\n",
    "    df[[\"All workers\",\"HPI\"]]=pd.DataFrame(scaler.transform(df[[\"All workers\",\"HPI\"]]),columns=[\"Unemployment\",\"HPI\"])\n",
    "    \n",
    "    #Creating a figure and a subplot to plot the values\n",
    "    fig, ax = plt.subplots()\n",
    "    \n",
    "    #plotting the values on the graph\n",
    "    ax.plot(df['Date'], df[\"All workers\"], 'blue')\n",
    "    ax.plot(df['Date'], df[\"HPI\"], 'red')\n",
    "\n",
    "    # Add title and labels\n",
    "    ax.set_title(title)\n",
    "    plt.show()\n",
    "    \n",
    "plot_basic(Unemployment)"
   ]
  },
  {
   "cell_type": "code",
   "execution_count": 14,
   "metadata": {},
   "outputs": [
    {
     "data": {
      "image/png": "[encoded data removed]",
      "text/plain": [
       "<Figure size 432x288 with 2 Axes>"
      ]
     },
     "metadata": {
      "needs_background": "light"
     },
     "output_type": "display_data"
    }
   ],
   "source": [
    "ax = sns.heatmap(\n",
    "    Unemployment.corr(),                                  #Passing arguement whose heatmap is to be made\n",
    "    vmin=-1, vmax=1, center=0,                  #Defining dimensions of heatmap\n",
    "    cmap=sns.diverging_palette(20, 220, n=200), #Defining Colorpalatte for heatmap\n",
    "    square=True\n",
    ")\n",
    "\n",
    "ax.set_xticklabels(\n",
    "    ax.get_xticklabels(),\n",
    "    rotation=45,\n",
    "    horizontalalignment='right'\n",
    ");"
   ]
  },
  {
   "cell_type": "code",
   "execution_count": 15,
   "metadata": {},
   "outputs": [
    {
     "data": {
      "text/html": [
       "<div>\n",
       "<style scoped>\n",
       "    .dataframe tbody tr th:only-of-type {\n",
       "        vertical-align: middle;\n",
       "    }\n",
       "\n",
       "    .dataframe tbody tr th {\n",
       "        vertical-align: top;\n",
       "    }\n",
       "\n",
       "    .dataframe thead th {\n",
       "        text-align: right;\n",
       "    }\n",
       "</style>\n",
       "<table border=\"1\" class=\"dataframe\">\n",
       "  <thead>\n",
       "    <tr style=\"text-align: right;\">\n",
       "      <th></th>\n",
       "      <th>Young workers</th>\n",
       "      <th>All workers</th>\n",
       "      <th>Recent graduates</th>\n",
       "      <th>College graduates</th>\n",
       "      <th>HPI</th>\n",
       "    </tr>\n",
       "  </thead>\n",
       "  <tbody>\n",
       "    <tr>\n",
       "      <th>Young workers</th>\n",
       "      <td>1.000000</td>\n",
       "      <td>0.984811</td>\n",
       "      <td>0.933539</td>\n",
       "      <td>0.970113</td>\n",
       "      <td>-0.278427</td>\n",
       "    </tr>\n",
       "    <tr>\n",
       "      <th>All workers</th>\n",
       "      <td>0.984811</td>\n",
       "      <td>1.000000</td>\n",
       "      <td>0.929931</td>\n",
       "      <td>0.982783</td>\n",
       "      <td>-0.365905</td>\n",
       "    </tr>\n",
       "    <tr>\n",
       "      <th>Recent graduates</th>\n",
       "      <td>0.933539</td>\n",
       "      <td>0.929931</td>\n",
       "      <td>1.000000</td>\n",
       "      <td>0.957792</td>\n",
       "      <td>-0.215279</td>\n",
       "    </tr>\n",
       "    <tr>\n",
       "      <th>College graduates</th>\n",
       "      <td>0.970113</td>\n",
       "      <td>0.982783</td>\n",
       "      <td>0.957792</td>\n",
       "      <td>1.000000</td>\n",
       "      <td>-0.307236</td>\n",
       "    </tr>\n",
       "    <tr>\n",
       "      <th>HPI</th>\n",
       "      <td>-0.278427</td>\n",
       "      <td>-0.365905</td>\n",
       "      <td>-0.215279</td>\n",
       "      <td>-0.307236</td>\n",
       "      <td>1.000000</td>\n",
       "    </tr>\n",
       "  </tbody>\n",
       "</table>\n",
       "</div>"
      ],
      "text/plain": [
       "                   Young workers  All workers  Recent graduates  \\\n",
       "Young workers           1.000000     0.984811          0.933539   \n",
       "All workers             0.984811     1.000000          0.929931   \n",
       "Recent graduates        0.933539     0.929931          1.000000   \n",
       "College graduates       0.970113     0.982783          0.957792   \n",
       "HPI                    -0.278427    -0.365905         -0.215279   \n",
       "\n",
       "                   College graduates       HPI  \n",
       "Young workers               0.970113 -0.278427  \n",
       "All workers                 0.982783 -0.365905  \n",
       "Recent graduates            0.957792 -0.215279  \n",
       "College graduates           1.000000 -0.307236  \n",
       "HPI                        -0.307236  1.000000  "
      ]
     },
     "execution_count": 15,
     "metadata": {},
     "output_type": "execute_result"
    }
   ],
   "source": [
    "Unemployment.corr()"
   ]
  },
  {
   "cell_type": "markdown",
   "metadata": {},
   "source": [
    "We can conclude from the above observation, Unemployment is a predictor of house prices but not a strong one"
   ]
  },
  {
   "cell_type": "markdown",
   "metadata": {},
   "source": [
    "## Underemployment"
   ]
  },
  {
   "cell_type": "markdown",
   "metadata": {},
   "source": [
    "Underemployemnt Dataset contains the info about Underemployemnt people in the US"
   ]
  },
  {
   "cell_type": "code",
   "execution_count": 16,
   "metadata": {},
   "outputs": [
    {
     "data": {
      "text/html": [
       "<div>\n",
       "<style scoped>\n",
       "    .dataframe tbody tr th:only-of-type {\n",
       "        vertical-align: middle;\n",
       "    }\n",
       "\n",
       "    .dataframe tbody tr th {\n",
       "        vertical-align: top;\n",
       "    }\n",
       "\n",
       "    .dataframe thead th {\n",
       "        text-align: right;\n",
       "    }\n",
       "</style>\n",
       "<table border=\"1\" class=\"dataframe\">\n",
       "  <thead>\n",
       "    <tr style=\"text-align: right;\">\n",
       "      <th></th>\n",
       "      <th>Date</th>\n",
       "      <th>Recent graduates</th>\n",
       "      <th>College graduates</th>\n",
       "    </tr>\n",
       "  </thead>\n",
       "  <tbody>\n",
       "    <tr>\n",
       "      <th>0</th>\n",
       "      <td>1/1/1990</td>\n",
       "      <td>42.9</td>\n",
       "      <td>34.1</td>\n",
       "    </tr>\n",
       "    <tr>\n",
       "      <th>1</th>\n",
       "      <td>2/1/1990</td>\n",
       "      <td>43.2</td>\n",
       "      <td>34.1</td>\n",
       "    </tr>\n",
       "    <tr>\n",
       "      <th>2</th>\n",
       "      <td>3/1/1990</td>\n",
       "      <td>43.3</td>\n",
       "      <td>34.1</td>\n",
       "    </tr>\n",
       "    <tr>\n",
       "      <th>3</th>\n",
       "      <td>4/1/1990</td>\n",
       "      <td>44.5</td>\n",
       "      <td>34.2</td>\n",
       "    </tr>\n",
       "    <tr>\n",
       "      <th>4</th>\n",
       "      <td>5/1/1990</td>\n",
       "      <td>44.8</td>\n",
       "      <td>34.3</td>\n",
       "    </tr>\n",
       "  </tbody>\n",
       "</table>\n",
       "</div>"
      ],
      "text/plain": [
       "       Date  Recent graduates  College graduates\n",
       "0  1/1/1990              42.9               34.1\n",
       "1  2/1/1990              43.2               34.1\n",
       "2  3/1/1990              43.3               34.1\n",
       "3  4/1/1990              44.5               34.2\n",
       "4  5/1/1990              44.8               34.3"
      ]
     },
     "execution_count": 16,
     "metadata": {},
     "output_type": "execute_result"
    }
   ],
   "source": [
    "underemployment=pd.read_csv(\"C:\\\\Users\\\\inasu\\\\Downloads\\\\Houses\\\\under_employment_college_grads.csv\")\n",
    "underemployment.head()"
   ]
  },
  {
   "cell_type": "code",
   "execution_count": 17,
   "metadata": {},
   "outputs": [
    {
     "data": {
      "text/html": [
       "<div>\n",
       "<style scoped>\n",
       "    .dataframe tbody tr th:only-of-type {\n",
       "        vertical-align: middle;\n",
       "    }\n",
       "\n",
       "    .dataframe tbody tr th {\n",
       "        vertical-align: top;\n",
       "    }\n",
       "\n",
       "    .dataframe thead th {\n",
       "        text-align: right;\n",
       "    }\n",
       "</style>\n",
       "<table border=\"1\" class=\"dataframe\">\n",
       "  <thead>\n",
       "    <tr style=\"text-align: right;\">\n",
       "      <th></th>\n",
       "      <th>Date</th>\n",
       "      <th>Recent graduates</th>\n",
       "      <th>College graduates</th>\n",
       "      <th>HPI</th>\n",
       "    </tr>\n",
       "  </thead>\n",
       "  <tbody>\n",
       "    <tr>\n",
       "      <th>235</th>\n",
       "      <td>8/1/2019</td>\n",
       "      <td>40.5</td>\n",
       "      <td>33.8</td>\n",
       "      <td>210.186</td>\n",
       "    </tr>\n",
       "    <tr>\n",
       "      <th>236</th>\n",
       "      <td>9/1/2019</td>\n",
       "      <td>41.4</td>\n",
       "      <td>33.8</td>\n",
       "      <td>210.879</td>\n",
       "    </tr>\n",
       "    <tr>\n",
       "      <th>237</th>\n",
       "      <td>10/1/2019</td>\n",
       "      <td>41.9</td>\n",
       "      <td>33.7</td>\n",
       "      <td>211.593</td>\n",
       "    </tr>\n",
       "    <tr>\n",
       "      <th>238</th>\n",
       "      <td>11/1/2019</td>\n",
       "      <td>42.1</td>\n",
       "      <td>33.5</td>\n",
       "      <td>212.509</td>\n",
       "    </tr>\n",
       "    <tr>\n",
       "      <th>239</th>\n",
       "      <td>12/1/2019</td>\n",
       "      <td>41.0</td>\n",
       "      <td>33.2</td>\n",
       "      <td>213.501</td>\n",
       "    </tr>\n",
       "  </tbody>\n",
       "</table>\n",
       "</div>"
      ],
      "text/plain": [
       "          Date  Recent graduates  College graduates      HPI\n",
       "235   8/1/2019              40.5               33.8  210.186\n",
       "236   9/1/2019              41.4               33.8  210.879\n",
       "237  10/1/2019              41.9               33.7  211.593\n",
       "238  11/1/2019              42.1               33.5  212.509\n",
       "239  12/1/2019              41.0               33.2  213.501"
      ]
     },
     "execution_count": 17,
     "metadata": {},
     "output_type": "execute_result"
    }
   ],
   "source": [
    "underemployment=underemployment.merge(HPI, left_on='Date', right_on='Date')\n",
    "underemployment=underemployment[:-6] #Removing the 2020 Data as there was a sudden rise in Unemployment\n",
    "underemployment.tail()"
   ]
  },
  {
   "cell_type": "code",
   "execution_count": 18,
   "metadata": {},
   "outputs": [
    {
     "data": {
      "image/png": "[encoded data removed]",
      "text/plain": [
       "<Figure size 432x288 with 1 Axes>"
      ]
     },
     "metadata": {
      "needs_background": "light"
     },
     "output_type": "display_data"
    }
   ],
   "source": [
    "def plot_basic(df, title='House Price Index vs Underemployemnt'):\n",
    "    #Fitting both the values on same scale for comparasion\n",
    "    #Fitting both the values on same scale for comparasion\n",
    "    scaler.fit(df[[\"Recent graduates\",\"College graduates\",\"HPI\"]])\n",
    "    df[[\"Recent graduates\",\"College graduates\",\"HPI\"]]=pd.DataFrame(scaler.transform(df[[\"Recent graduates\",\"College graduates\",\"HPI\"]]))\n",
    "    \n",
    "    #Creating a figure and a subplot to plot the values\n",
    "    fig, ax = plt.subplots()\n",
    "    \n",
    "    #plotting the values on the graph\n",
    "    ax.plot(df['Date'], df[\"Recent graduates\"], 'blue')\n",
    "    ax.plot(df['Date'], df[\"College graduates\"], 'purple')\n",
    "    ax.plot(df['Date'], df[\"HPI\"], 'red')\n",
    "\n",
    "    # Add title and labels\n",
    "    ax.set_title(title)\n",
    "    plt.show()\n",
    "    \n",
    "plot_basic(underemployment)"
   ]
  },
  {
   "cell_type": "code",
   "execution_count": 19,
   "metadata": {},
   "outputs": [
    {
     "data": {
      "image/png": "[encoded data removed]",
      "text/plain": [
       "<Figure size 432x288 with 2 Axes>"
      ]
     },
     "metadata": {
      "needs_background": "light"
     },
     "output_type": "display_data"
    }
   ],
   "source": [
    "ax = sns.heatmap(\n",
    "    underemployment.corr(),                                  #Passing arguement whose heatmap is to be made\n",
    "    vmin=-1, vmax=1, center=0,                  #Defining dimensions of heatmap\n",
    "    cmap=sns.diverging_palette(20, 220, n=200), #Defining Colorpalatte for heatmap\n",
    "    square=True\n",
    ")\n",
    "\n",
    "ax.set_xticklabels(\n",
    "    ax.get_xticklabels(),\n",
    "    rotation=45,\n",
    "    horizontalalignment='right'\n",
    ");"
   ]
  },
  {
   "cell_type": "code",
   "execution_count": 20,
   "metadata": {},
   "outputs": [
    {
     "data": {
      "text/html": [
       "<div>\n",
       "<style scoped>\n",
       "    .dataframe tbody tr th:only-of-type {\n",
       "        vertical-align: middle;\n",
       "    }\n",
       "\n",
       "    .dataframe tbody tr th {\n",
       "        vertical-align: top;\n",
       "    }\n",
       "\n",
       "    .dataframe thead th {\n",
       "        text-align: right;\n",
       "    }\n",
       "</style>\n",
       "<table border=\"1\" class=\"dataframe\">\n",
       "  <thead>\n",
       "    <tr style=\"text-align: right;\">\n",
       "      <th></th>\n",
       "      <th>Recent graduates</th>\n",
       "      <th>College graduates</th>\n",
       "      <th>HPI</th>\n",
       "    </tr>\n",
       "  </thead>\n",
       "  <tbody>\n",
       "    <tr>\n",
       "      <th>Recent graduates</th>\n",
       "      <td>1.000000</td>\n",
       "      <td>0.881063</td>\n",
       "      <td>0.319809</td>\n",
       "    </tr>\n",
       "    <tr>\n",
       "      <th>College graduates</th>\n",
       "      <td>0.881063</td>\n",
       "      <td>1.000000</td>\n",
       "      <td>0.614911</td>\n",
       "    </tr>\n",
       "    <tr>\n",
       "      <th>HPI</th>\n",
       "      <td>0.319809</td>\n",
       "      <td>0.614911</td>\n",
       "      <td>1.000000</td>\n",
       "    </tr>\n",
       "  </tbody>\n",
       "</table>\n",
       "</div>"
      ],
      "text/plain": [
       "                   Recent graduates  College graduates       HPI\n",
       "Recent graduates           1.000000           0.881063  0.319809\n",
       "College graduates          0.881063           1.000000  0.614911\n",
       "HPI                        0.319809           0.614911  1.000000"
      ]
     },
     "execution_count": 20,
     "metadata": {},
     "output_type": "execute_result"
    }
   ],
   "source": [
    "underemployment.corr()"
   ]
  },
  {
   "cell_type": "markdown",
   "metadata": {},
   "source": [
    "from our observations we can conclude Underemployment is also not a very strong predictor for House Price Index, but is weakly related"
   ]
  },
  {
   "cell_type": "markdown",
   "metadata": {},
   "source": [
    "# Tax and Intrest Rates"
   ]
  },
  {
   "cell_type": "markdown",
   "metadata": {},
   "source": [
    "## Tax"
   ]
  },
  {
   "cell_type": "code",
   "execution_count": 21,
   "metadata": {},
   "outputs": [
    {
     "data": {
      "text/html": [
       "<div>\n",
       "<style scoped>\n",
       "    .dataframe tbody tr th:only-of-type {\n",
       "        vertical-align: middle;\n",
       "    }\n",
       "\n",
       "    .dataframe tbody tr th {\n",
       "        vertical-align: top;\n",
       "    }\n",
       "\n",
       "    .dataframe thead th {\n",
       "        text-align: right;\n",
       "    }\n",
       "</style>\n",
       "<table border=\"1\" class=\"dataframe\">\n",
       "  <thead>\n",
       "    <tr style=\"text-align: right;\">\n",
       "      <th></th>\n",
       "      <th>Year</th>\n",
       "      <th>Bottom Bracket Rate %</th>\n",
       "      <th>Bottom Bracket Taxable Income up to</th>\n",
       "      <th>Top Bracket Rate %</th>\n",
       "      <th>Top Bracket Taxable Income Over</th>\n",
       "    </tr>\n",
       "  </thead>\n",
       "  <tbody>\n",
       "    <tr>\n",
       "      <th>0</th>\n",
       "      <td>2020</td>\n",
       "      <td>10</td>\n",
       "      <td>19400</td>\n",
       "      <td>37</td>\n",
       "      <td>622050</td>\n",
       "    </tr>\n",
       "    <tr>\n",
       "      <th>1</th>\n",
       "      <td>2019</td>\n",
       "      <td>10</td>\n",
       "      <td>19400</td>\n",
       "      <td>37</td>\n",
       "      <td>612350</td>\n",
       "    </tr>\n",
       "    <tr>\n",
       "      <th>2</th>\n",
       "      <td>2018</td>\n",
       "      <td>10</td>\n",
       "      <td>19050</td>\n",
       "      <td>37</td>\n",
       "      <td>600000</td>\n",
       "    </tr>\n",
       "    <tr>\n",
       "      <th>3</th>\n",
       "      <td>2017</td>\n",
       "      <td>10</td>\n",
       "      <td>18650</td>\n",
       "      <td>39.6</td>\n",
       "      <td>470700</td>\n",
       "    </tr>\n",
       "    <tr>\n",
       "      <th>4</th>\n",
       "      <td>2016</td>\n",
       "      <td>10</td>\n",
       "      <td>18550</td>\n",
       "      <td>39.6</td>\n",
       "      <td>466950</td>\n",
       "    </tr>\n",
       "  </tbody>\n",
       "</table>\n",
       "</div>"
      ],
      "text/plain": [
       "   Year Bottom Bracket Rate %  Bottom Bracket Taxable Income up to  \\\n",
       "0  2020                    10                                19400   \n",
       "1  2019                    10                                19400   \n",
       "2  2018                    10                                19050   \n",
       "3  2017                    10                                18650   \n",
       "4  2016                    10                                18550   \n",
       "\n",
       "  Top Bracket Rate %  Top Bracket Taxable Income Over  \n",
       "0                 37                           622050  \n",
       "1                 37                           612350  \n",
       "2                 37                           600000  \n",
       "3               39.6                           470700  \n",
       "4               39.6                           466950  "
      ]
     },
     "execution_count": 21,
     "metadata": {},
     "output_type": "execute_result"
    }
   ],
   "source": [
    "tax=pd.read_csv(\"C:\\\\Users\\\\inasu\\\\Downloads\\\\Houses\\\\tax_over_years.csv\")\n",
    "tax.head()"
   ]
  },
  {
   "cell_type": "code",
   "execution_count": 22,
   "metadata": {},
   "outputs": [
    {
     "data": {
      "text/html": [
       "<div>\n",
       "<style scoped>\n",
       "    .dataframe tbody tr th:only-of-type {\n",
       "        vertical-align: middle;\n",
       "    }\n",
       "\n",
       "    .dataframe tbody tr th {\n",
       "        vertical-align: top;\n",
       "    }\n",
       "\n",
       "    .dataframe thead th {\n",
       "        text-align: right;\n",
       "    }\n",
       "</style>\n",
       "<table border=\"1\" class=\"dataframe\">\n",
       "  <thead>\n",
       "    <tr style=\"text-align: right;\">\n",
       "      <th></th>\n",
       "      <th>Year</th>\n",
       "      <th>Bottom Bracket Rate %</th>\n",
       "      <th>Bottom Bracket Taxable Income up to</th>\n",
       "      <th>Top Bracket Rate %</th>\n",
       "      <th>Top Bracket Taxable Income Over</th>\n",
       "      <th>HPI</th>\n",
       "    </tr>\n",
       "  </thead>\n",
       "  <tbody>\n",
       "    <tr>\n",
       "      <th>0</th>\n",
       "      <td>2020</td>\n",
       "      <td>10.0</td>\n",
       "      <td>19400</td>\n",
       "      <td>37.0</td>\n",
       "      <td>622050</td>\n",
       "      <td>222.169417</td>\n",
       "    </tr>\n",
       "    <tr>\n",
       "      <th>1</th>\n",
       "      <td>2019</td>\n",
       "      <td>10.0</td>\n",
       "      <td>19400</td>\n",
       "      <td>37.0</td>\n",
       "      <td>612350</td>\n",
       "      <td>209.560250</td>\n",
       "    </tr>\n",
       "    <tr>\n",
       "      <th>2</th>\n",
       "      <td>2018</td>\n",
       "      <td>10.0</td>\n",
       "      <td>19050</td>\n",
       "      <td>37.0</td>\n",
       "      <td>600000</td>\n",
       "      <td>202.538417</td>\n",
       "    </tr>\n",
       "    <tr>\n",
       "      <th>3</th>\n",
       "      <td>2017</td>\n",
       "      <td>10.0</td>\n",
       "      <td>18650</td>\n",
       "      <td>39.6</td>\n",
       "      <td>470700</td>\n",
       "      <td>191.445583</td>\n",
       "    </tr>\n",
       "    <tr>\n",
       "      <th>4</th>\n",
       "      <td>2016</td>\n",
       "      <td>10.0</td>\n",
       "      <td>18550</td>\n",
       "      <td>39.6</td>\n",
       "      <td>466950</td>\n",
       "      <td>180.959500</td>\n",
       "    </tr>\n",
       "  </tbody>\n",
       "</table>\n",
       "</div>"
      ],
      "text/plain": [
       "   Year  Bottom Bracket Rate %  Bottom Bracket Taxable Income up to  \\\n",
       "0  2020                   10.0                                19400   \n",
       "1  2019                   10.0                                19400   \n",
       "2  2018                   10.0                                19050   \n",
       "3  2017                   10.0                                18650   \n",
       "4  2016                   10.0                                18550   \n",
       "\n",
       "   Top Bracket Rate %  Top Bracket Taxable Income Over         HPI  \n",
       "0                37.0                           622050  222.169417  \n",
       "1                37.0                           612350  209.560250  \n",
       "2                37.0                           600000  202.538417  \n",
       "3                39.6                           470700  191.445583  \n",
       "4                39.6                           466950  180.959500  "
      ]
     },
     "execution_count": 22,
     "metadata": {},
     "output_type": "execute_result"
    }
   ],
   "source": [
    "tax['Year']=tax['Year'].astype('int')\n",
    "tax['Bottom Bracket Rate %']=tax['Bottom Bracket Rate %'].astype('float')\n",
    "tax['Top Bracket Rate %']=tax['Top Bracket Rate %'].astype('float')\n",
    "tax=tax.merge(HPI.groupby(pd.DatetimeIndex(HPI['Date']).year).mean(), left_on='Year', right_on='Date')\n",
    "tax.head()"
   ]
  },
  {
   "cell_type": "code",
   "execution_count": 23,
   "metadata": {},
   "outputs": [
    {
     "data": {
      "image/png": "[encoded data removed]",
      "text/plain": [
       "<Figure size 432x288 with 1 Axes>"
      ]
     },
     "metadata": {
      "needs_background": "light"
     },
     "output_type": "display_data"
    }
   ],
   "source": [
    "def plot_basic(df, title='House Price Index vs Tax Rate'):\n",
    "    #Fitting both the values on same scale for comparasion\n",
    "    #Fitting both the values on same scale for comparasion\n",
    "    scaler.fit(df[['Year',\"Bottom Bracket Rate %\",'Top Bracket Rate %','HPI']])\n",
    "    df[['Year',\"Bottom Bracket Rate %\",'Top Bracket Rate %','HPI']]=pd.DataFrame(scaler.transform(df[['Year',\"Bottom Bracket Rate %\",'Top Bracket Rate %','HPI']]))\n",
    "    \n",
    "    #Creating a figure and a subplot to plot the values\n",
    "    fig, ax = plt.subplots()\n",
    "    \n",
    "    #plotting the values on the graph\n",
    "    ax.plot(df['Year'], df[\"Bottom Bracket Rate %\"], 'blue')\n",
    "    ax.plot(df['Year'], df[\"Top Bracket Rate %\"], 'purple')\n",
    "    ax.plot(df['Year'], df[\"HPI\"], 'red')\n",
    "\n",
    "    # Add title and labels\n",
    "    ax.set_title(title)\n",
    "    plt.show()\n",
    "    \n",
    "plot_basic(tax)"
   ]
  },
  {
   "cell_type": "code",
   "execution_count": 24,
   "metadata": {},
   "outputs": [
    {
     "data": {
      "image/png": "[encoded data removed]",
      "text/plain": [
       "<Figure size 432x288 with 2 Axes>"
      ]
     },
     "metadata": {
      "needs_background": "light"
     },
     "output_type": "display_data"
    }
   ],
   "source": [
    "ax = sns.heatmap(\n",
    "    tax.corr(),                                  #Passing arguement whose heatmap is to be made\n",
    "    vmin=-1, vmax=1, center=0,                  #Defining dimensions of heatmap\n",
    "    cmap=sns.diverging_palette(20, 220, n=200), #Defining Colorpalatte for heatmap\n",
    "    square=True\n",
    ")\n",
    "\n",
    "ax.set_xticklabels(\n",
    "    ax.get_xticklabels(),\n",
    "    rotation=45,\n",
    "    horizontalalignment='right'\n",
    ");"
   ]
  },
  {
   "cell_type": "code",
   "execution_count": 25,
   "metadata": {},
   "outputs": [
    {
     "data": {
      "text/html": [
       "<div>\n",
       "<style scoped>\n",
       "    .dataframe tbody tr th:only-of-type {\n",
       "        vertical-align: middle;\n",
       "    }\n",
       "\n",
       "    .dataframe tbody tr th {\n",
       "        vertical-align: top;\n",
       "    }\n",
       "\n",
       "    .dataframe thead th {\n",
       "        text-align: right;\n",
       "    }\n",
       "</style>\n",
       "<table border=\"1\" class=\"dataframe\">\n",
       "  <thead>\n",
       "    <tr style=\"text-align: right;\">\n",
       "      <th></th>\n",
       "      <th>Year</th>\n",
       "      <th>Bottom Bracket Rate %</th>\n",
       "      <th>Bottom Bracket Taxable Income up to</th>\n",
       "      <th>Top Bracket Rate %</th>\n",
       "      <th>Top Bracket Taxable Income Over</th>\n",
       "      <th>HPI</th>\n",
       "    </tr>\n",
       "  </thead>\n",
       "  <tbody>\n",
       "    <tr>\n",
       "      <th>Year</th>\n",
       "      <td>1.000000</td>\n",
       "      <td>-0.509010</td>\n",
       "      <td>-0.301853</td>\n",
       "      <td>0.220744</td>\n",
       "      <td>0.938326</td>\n",
       "      <td>0.793251</td>\n",
       "    </tr>\n",
       "    <tr>\n",
       "      <th>Bottom Bracket Rate %</th>\n",
       "      <td>-0.509010</td>\n",
       "      <td>1.000000</td>\n",
       "      <td>0.972844</td>\n",
       "      <td>0.378802</td>\n",
       "      <td>-0.367348</td>\n",
       "      <td>-0.562446</td>\n",
       "    </tr>\n",
       "    <tr>\n",
       "      <th>Bottom Bracket Taxable Income up to</th>\n",
       "      <td>-0.301853</td>\n",
       "      <td>0.972844</td>\n",
       "      <td>1.000000</td>\n",
       "      <td>0.459756</td>\n",
       "      <td>-0.170391</td>\n",
       "      <td>-0.419542</td>\n",
       "    </tr>\n",
       "    <tr>\n",
       "      <th>Top Bracket Rate %</th>\n",
       "      <td>0.220744</td>\n",
       "      <td>0.378802</td>\n",
       "      <td>0.459756</td>\n",
       "      <td>1.000000</td>\n",
       "      <td>0.259835</td>\n",
       "      <td>-0.037384</td>\n",
       "    </tr>\n",
       "    <tr>\n",
       "      <th>Top Bracket Taxable Income Over</th>\n",
       "      <td>0.938326</td>\n",
       "      <td>-0.367348</td>\n",
       "      <td>-0.170391</td>\n",
       "      <td>0.259835</td>\n",
       "      <td>1.000000</td>\n",
       "      <td>0.812263</td>\n",
       "    </tr>\n",
       "    <tr>\n",
       "      <th>HPI</th>\n",
       "      <td>0.793251</td>\n",
       "      <td>-0.562446</td>\n",
       "      <td>-0.419542</td>\n",
       "      <td>-0.037384</td>\n",
       "      <td>0.812263</td>\n",
       "      <td>1.000000</td>\n",
       "    </tr>\n",
       "  </tbody>\n",
       "</table>\n",
       "</div>"
      ],
      "text/plain": [
       "                                         Year  Bottom Bracket Rate %  \\\n",
       "Year                                 1.000000              -0.509010   \n",
       "Bottom Bracket Rate %               -0.509010               1.000000   \n",
       "Bottom Bracket Taxable Income up to -0.301853               0.972844   \n",
       "Top Bracket Rate %                   0.220744               0.378802   \n",
       "Top Bracket Taxable Income Over      0.938326              -0.367348   \n",
       "HPI                                  0.793251              -0.562446   \n",
       "\n",
       "                                     Bottom Bracket Taxable Income up to  \\\n",
       "Year                                                           -0.301853   \n",
       "Bottom Bracket Rate %                                           0.972844   \n",
       "Bottom Bracket Taxable Income up to                             1.000000   \n",
       "Top Bracket Rate %                                              0.459756   \n",
       "Top Bracket Taxable Income Over                                -0.170391   \n",
       "HPI                                                            -0.419542   \n",
       "\n",
       "                                     Top Bracket Rate %  \\\n",
       "Year                                           0.220744   \n",
       "Bottom Bracket Rate %                          0.378802   \n",
       "Bottom Bracket Taxable Income up to            0.459756   \n",
       "Top Bracket Rate %                             1.000000   \n",
       "Top Bracket Taxable Income Over                0.259835   \n",
       "HPI                                           -0.037384   \n",
       "\n",
       "                                     Top Bracket Taxable Income Over       HPI  \n",
       "Year                                                        0.938326  0.793251  \n",
       "Bottom Bracket Rate %                                      -0.367348 -0.562446  \n",
       "Bottom Bracket Taxable Income up to                        -0.170391 -0.419542  \n",
       "Top Bracket Rate %                                          0.259835 -0.037384  \n",
       "Top Bracket Taxable Income Over                             1.000000  0.812263  \n",
       "HPI                                                         0.812263  1.000000  "
      ]
     },
     "execution_count": 25,
     "metadata": {},
     "output_type": "execute_result"
    }
   ],
   "source": [
    "tax.corr()"
   ]
  },
  {
   "cell_type": "markdown",
   "metadata": {},
   "source": [
    "We can say that Tax rates are a good predictor for House Price Index"
   ]
  },
  {
   "cell_type": "markdown",
   "metadata": {},
   "source": [
    "## Intrest"
   ]
  },
  {
   "cell_type": "code",
   "execution_count": 26,
   "metadata": {},
   "outputs": [
    {
     "data": {
      "text/html": [
       "<div>\n",
       "<style scoped>\n",
       "    .dataframe tbody tr th:only-of-type {\n",
       "        vertical-align: middle;\n",
       "    }\n",
       "\n",
       "    .dataframe tbody tr th {\n",
       "        vertical-align: top;\n",
       "    }\n",
       "\n",
       "    .dataframe thead th {\n",
       "        text-align: right;\n",
       "    }\n",
       "</style>\n",
       "<table border=\"1\" class=\"dataframe\">\n",
       "  <thead>\n",
       "    <tr style=\"text-align: right;\">\n",
       "      <th></th>\n",
       "      <th>Year</th>\n",
       "      <th>Month</th>\n",
       "      <th>Day</th>\n",
       "      <th>Federal Funds Target Rate</th>\n",
       "      <th>Federal Funds Upper Target</th>\n",
       "      <th>Federal Funds Lower Target</th>\n",
       "      <th>Effective Federal Funds Rate</th>\n",
       "      <th>Real GDP (Percent Change)</th>\n",
       "      <th>Unemployment Rate</th>\n",
       "      <th>Inflation Rate</th>\n",
       "    </tr>\n",
       "  </thead>\n",
       "  <tbody>\n",
       "    <tr>\n",
       "      <th>0</th>\n",
       "      <td>1954</td>\n",
       "      <td>7</td>\n",
       "      <td>1</td>\n",
       "      <td>NaN</td>\n",
       "      <td>NaN</td>\n",
       "      <td>NaN</td>\n",
       "      <td>0.80</td>\n",
       "      <td>4.6</td>\n",
       "      <td>5.8</td>\n",
       "      <td>NaN</td>\n",
       "    </tr>\n",
       "    <tr>\n",
       "      <th>1</th>\n",
       "      <td>1954</td>\n",
       "      <td>8</td>\n",
       "      <td>1</td>\n",
       "      <td>NaN</td>\n",
       "      <td>NaN</td>\n",
       "      <td>NaN</td>\n",
       "      <td>1.22</td>\n",
       "      <td>NaN</td>\n",
       "      <td>6.0</td>\n",
       "      <td>NaN</td>\n",
       "    </tr>\n",
       "    <tr>\n",
       "      <th>2</th>\n",
       "      <td>1954</td>\n",
       "      <td>9</td>\n",
       "      <td>1</td>\n",
       "      <td>NaN</td>\n",
       "      <td>NaN</td>\n",
       "      <td>NaN</td>\n",
       "      <td>1.06</td>\n",
       "      <td>NaN</td>\n",
       "      <td>6.1</td>\n",
       "      <td>NaN</td>\n",
       "    </tr>\n",
       "    <tr>\n",
       "      <th>3</th>\n",
       "      <td>1954</td>\n",
       "      <td>10</td>\n",
       "      <td>1</td>\n",
       "      <td>NaN</td>\n",
       "      <td>NaN</td>\n",
       "      <td>NaN</td>\n",
       "      <td>0.85</td>\n",
       "      <td>8.0</td>\n",
       "      <td>5.7</td>\n",
       "      <td>NaN</td>\n",
       "    </tr>\n",
       "    <tr>\n",
       "      <th>4</th>\n",
       "      <td>1954</td>\n",
       "      <td>11</td>\n",
       "      <td>1</td>\n",
       "      <td>NaN</td>\n",
       "      <td>NaN</td>\n",
       "      <td>NaN</td>\n",
       "      <td>0.83</td>\n",
       "      <td>NaN</td>\n",
       "      <td>5.3</td>\n",
       "      <td>NaN</td>\n",
       "    </tr>\n",
       "  </tbody>\n",
       "</table>\n",
       "</div>"
      ],
      "text/plain": [
       "   Year  Month  Day  Federal Funds Target Rate  Federal Funds Upper Target  \\\n",
       "0  1954      7    1                        NaN                         NaN   \n",
       "1  1954      8    1                        NaN                         NaN   \n",
       "2  1954      9    1                        NaN                         NaN   \n",
       "3  1954     10    1                        NaN                         NaN   \n",
       "4  1954     11    1                        NaN                         NaN   \n",
       "\n",
       "   Federal Funds Lower Target  Effective Federal Funds Rate  \\\n",
       "0                         NaN                          0.80   \n",
       "1                         NaN                          1.22   \n",
       "2                         NaN                          1.06   \n",
       "3                         NaN                          0.85   \n",
       "4                         NaN                          0.83   \n",
       "\n",
       "   Real GDP (Percent Change)  Unemployment Rate  Inflation Rate  \n",
       "0                        4.6                5.8             NaN  \n",
       "1                        NaN                6.0             NaN  \n",
       "2                        NaN                6.1             NaN  \n",
       "3                        8.0                5.7             NaN  \n",
       "4                        NaN                5.3             NaN  "
      ]
     },
     "execution_count": 26,
     "metadata": {},
     "output_type": "execute_result"
    }
   ],
   "source": [
    "intrest=pd.read_csv(\"C:\\\\Users\\\\inasu\\\\Downloads\\\\Houses\\\\intrest.csv\")\n",
    "intrest.head()"
   ]
  },
  {
   "cell_type": "code",
   "execution_count": 27,
   "metadata": {},
   "outputs": [
    {
     "data": {
      "text/html": [
       "<div>\n",
       "<style scoped>\n",
       "    .dataframe tbody tr th:only-of-type {\n",
       "        vertical-align: middle;\n",
       "    }\n",
       "\n",
       "    .dataframe tbody tr th {\n",
       "        vertical-align: top;\n",
       "    }\n",
       "\n",
       "    .dataframe thead th {\n",
       "        text-align: right;\n",
       "    }\n",
       "</style>\n",
       "<table border=\"1\" class=\"dataframe\">\n",
       "  <thead>\n",
       "    <tr style=\"text-align: right;\">\n",
       "      <th></th>\n",
       "      <th>Federal Funds Target Rate</th>\n",
       "      <th>Federal Funds Upper Target</th>\n",
       "      <th>Federal Funds Lower Target</th>\n",
       "      <th>Effective Federal Funds Rate</th>\n",
       "      <th>Real GDP (Percent Change)</th>\n",
       "      <th>Unemployment Rate</th>\n",
       "      <th>Inflation Rate</th>\n",
       "      <th>Date</th>\n",
       "      <th>HPI</th>\n",
       "    </tr>\n",
       "  </thead>\n",
       "  <tbody>\n",
       "    <tr>\n",
       "      <th>0</th>\n",
       "      <td>5.50</td>\n",
       "      <td>NaN</td>\n",
       "      <td>NaN</td>\n",
       "      <td>5.45</td>\n",
       "      <td>1.2</td>\n",
       "      <td>4.0</td>\n",
       "      <td>2.0</td>\n",
       "      <td>2000-01-01</td>\n",
       "      <td>100.552</td>\n",
       "    </tr>\n",
       "    <tr>\n",
       "      <th>1</th>\n",
       "      <td>5.50</td>\n",
       "      <td>NaN</td>\n",
       "      <td>NaN</td>\n",
       "      <td>5.73</td>\n",
       "      <td>NaN</td>\n",
       "      <td>4.1</td>\n",
       "      <td>2.2</td>\n",
       "      <td>2000-02-01</td>\n",
       "      <td>101.339</td>\n",
       "    </tr>\n",
       "    <tr>\n",
       "      <th>2</th>\n",
       "      <td>5.75</td>\n",
       "      <td>NaN</td>\n",
       "      <td>NaN</td>\n",
       "      <td>5.85</td>\n",
       "      <td>NaN</td>\n",
       "      <td>4.0</td>\n",
       "      <td>2.4</td>\n",
       "      <td>2000-03-01</td>\n",
       "      <td>102.127</td>\n",
       "    </tr>\n",
       "    <tr>\n",
       "      <th>3</th>\n",
       "      <td>6.00</td>\n",
       "      <td>NaN</td>\n",
       "      <td>NaN</td>\n",
       "      <td>6.02</td>\n",
       "      <td>7.8</td>\n",
       "      <td>3.8</td>\n",
       "      <td>2.3</td>\n",
       "      <td>2000-04-01</td>\n",
       "      <td>102.922</td>\n",
       "    </tr>\n",
       "    <tr>\n",
       "      <th>4</th>\n",
       "      <td>6.00</td>\n",
       "      <td>NaN</td>\n",
       "      <td>NaN</td>\n",
       "      <td>6.27</td>\n",
       "      <td>NaN</td>\n",
       "      <td>4.0</td>\n",
       "      <td>2.4</td>\n",
       "      <td>2000-05-01</td>\n",
       "      <td>103.677</td>\n",
       "    </tr>\n",
       "  </tbody>\n",
       "</table>\n",
       "</div>"
      ],
      "text/plain": [
       "   Federal Funds Target Rate  Federal Funds Upper Target  \\\n",
       "0                       5.50                         NaN   \n",
       "1                       5.50                         NaN   \n",
       "2                       5.75                         NaN   \n",
       "3                       6.00                         NaN   \n",
       "4                       6.00                         NaN   \n",
       "\n",
       "   Federal Funds Lower Target  Effective Federal Funds Rate  \\\n",
       "0                         NaN                          5.45   \n",
       "1                         NaN                          5.73   \n",
       "2                         NaN                          5.85   \n",
       "3                         NaN                          6.02   \n",
       "4                         NaN                          6.27   \n",
       "\n",
       "   Real GDP (Percent Change)  Unemployment Rate  Inflation Rate       Date  \\\n",
       "0                        1.2                4.0             2.0 2000-01-01   \n",
       "1                        NaN                4.1             2.2 2000-02-01   \n",
       "2                        NaN                4.0             2.4 2000-03-01   \n",
       "3                        7.8                3.8             2.3 2000-04-01   \n",
       "4                        NaN                4.0             2.4 2000-05-01   \n",
       "\n",
       "       HPI  \n",
       "0  100.552  \n",
       "1  101.339  \n",
       "2  102.127  \n",
       "3  102.922  \n",
       "4  103.677  "
      ]
     },
     "execution_count": 27,
     "metadata": {},
     "output_type": "execute_result"
    }
   ],
   "source": [
    "intrest[\"Date\"]=pd.to_datetime(intrest[[\"Year\", \"Month\", \"Day\"]])\n",
    "HPI[\"Date\"]=pd.to_datetime(HPI[\"Date\"])\n",
    "intrest.drop([\"Year\",\"Month\",\"Day\"],axis=1,inplace=True)\n",
    "intrest=intrest.merge(HPI, left_on='Date', right_on='Date')\n",
    "intrest.head()"
   ]
  },
  {
   "cell_type": "code",
   "execution_count": 28,
   "metadata": {},
   "outputs": [
    {
     "name": "stdout",
     "output_type": "stream",
     "text": [
      "<class 'pandas.core.frame.DataFrame'>\n",
      "Int64Index: 207 entries, 0 to 206\n",
      "Data columns (total 9 columns):\n",
      " #   Column                        Non-Null Count  Dtype         \n",
      "---  ------                        --------------  -----         \n",
      " 0   Federal Funds Target Rate     108 non-null    float64       \n",
      " 1   Federal Funds Upper Target    99 non-null     float64       \n",
      " 2   Federal Funds Lower Target    99 non-null     float64       \n",
      " 3   Effective Federal Funds Rate  206 non-null    float64       \n",
      " 4   Real GDP (Percent Change)     68 non-null     float64       \n",
      " 5   Unemployment Rate             206 non-null    float64       \n",
      " 6   Inflation Rate                206 non-null    float64       \n",
      " 7   Date                          207 non-null    datetime64[ns]\n",
      " 8   HPI                           207 non-null    float64       \n",
      "dtypes: datetime64[ns](1), float64(8)\n",
      "memory usage: 16.2 KB\n"
     ]
    }
   ],
   "source": [
    "intrest.info()"
   ]
  },
  {
   "cell_type": "code",
   "execution_count": 29,
   "metadata": {},
   "outputs": [
    {
     "data": {
      "text/plain": [
       "Federal Funds Target Rate        99\n",
       "Federal Funds Upper Target      108\n",
       "Federal Funds Lower Target      108\n",
       "Effective Federal Funds Rate      1\n",
       "Real GDP (Percent Change)       139\n",
       "Unemployment Rate                 1\n",
       "Inflation Rate                    1\n",
       "Date                              0\n",
       "HPI                               0\n",
       "dtype: int64"
      ]
     },
     "execution_count": 29,
     "metadata": {},
     "output_type": "execute_result"
    }
   ],
   "source": [
    "intrest.isna().sum()"
   ]
  },
  {
   "cell_type": "code",
   "execution_count": 30,
   "metadata": {},
   "outputs": [
    {
     "data": {
      "text/html": [
       "<div>\n",
       "<style scoped>\n",
       "    .dataframe tbody tr th:only-of-type {\n",
       "        vertical-align: middle;\n",
       "    }\n",
       "\n",
       "    .dataframe tbody tr th {\n",
       "        vertical-align: top;\n",
       "    }\n",
       "\n",
       "    .dataframe thead th {\n",
       "        text-align: right;\n",
       "    }\n",
       "</style>\n",
       "<table border=\"1\" class=\"dataframe\">\n",
       "  <thead>\n",
       "    <tr style=\"text-align: right;\">\n",
       "      <th></th>\n",
       "      <th>Effective Federal Funds Rate</th>\n",
       "      <th>Unemployment Rate</th>\n",
       "      <th>Inflation Rate</th>\n",
       "      <th>Date</th>\n",
       "      <th>HPI</th>\n",
       "    </tr>\n",
       "  </thead>\n",
       "  <tbody>\n",
       "    <tr>\n",
       "      <th>0</th>\n",
       "      <td>5.45</td>\n",
       "      <td>4.0</td>\n",
       "      <td>2.0</td>\n",
       "      <td>2000-01-01</td>\n",
       "      <td>100.552</td>\n",
       "    </tr>\n",
       "    <tr>\n",
       "      <th>1</th>\n",
       "      <td>5.73</td>\n",
       "      <td>4.1</td>\n",
       "      <td>2.2</td>\n",
       "      <td>2000-02-01</td>\n",
       "      <td>101.339</td>\n",
       "    </tr>\n",
       "    <tr>\n",
       "      <th>2</th>\n",
       "      <td>5.85</td>\n",
       "      <td>4.0</td>\n",
       "      <td>2.4</td>\n",
       "      <td>2000-03-01</td>\n",
       "      <td>102.127</td>\n",
       "    </tr>\n",
       "    <tr>\n",
       "      <th>3</th>\n",
       "      <td>6.02</td>\n",
       "      <td>3.8</td>\n",
       "      <td>2.3</td>\n",
       "      <td>2000-04-01</td>\n",
       "      <td>102.922</td>\n",
       "    </tr>\n",
       "    <tr>\n",
       "      <th>4</th>\n",
       "      <td>6.27</td>\n",
       "      <td>4.0</td>\n",
       "      <td>2.4</td>\n",
       "      <td>2000-05-01</td>\n",
       "      <td>103.677</td>\n",
       "    </tr>\n",
       "  </tbody>\n",
       "</table>\n",
       "</div>"
      ],
      "text/plain": [
       "   Effective Federal Funds Rate  Unemployment Rate  Inflation Rate       Date  \\\n",
       "0                          5.45                4.0             2.0 2000-01-01   \n",
       "1                          5.73                4.1             2.2 2000-02-01   \n",
       "2                          5.85                4.0             2.4 2000-03-01   \n",
       "3                          6.02                3.8             2.3 2000-04-01   \n",
       "4                          6.27                4.0             2.4 2000-05-01   \n",
       "\n",
       "       HPI  \n",
       "0  100.552  \n",
       "1  101.339  \n",
       "2  102.127  \n",
       "3  102.922  \n",
       "4  103.677  "
      ]
     },
     "execution_count": 30,
     "metadata": {},
     "output_type": "execute_result"
    }
   ],
   "source": [
    "intrest.drop([\"Real GDP (Percent Change)\",\"Federal Funds Lower Target\",\"Federal Funds Upper Target\",\"Federal Funds Target Rate\"],axis=1,inplace=True)\n",
    "intrest.head()"
   ]
  },
  {
   "cell_type": "code",
   "execution_count": 31,
   "metadata": {},
   "outputs": [
    {
     "data": {
      "image/png": "[encoded data removed]",
      "text/plain": [
       "<Figure size 432x288 with 1 Axes>"
      ]
     },
     "metadata": {
      "needs_background": "light"
     },
     "output_type": "display_data"
    }
   ],
   "source": [
    "def plot_basic(df, title='House Price Index vs Intrest Rates'):\n",
    "    #Fitting both the values on same scale for comparasion\n",
    "    #Fitting both the values on same scale for comparasion\n",
    "    scaler.fit(df[['Effective Federal Funds Rate',\"Unemployment Rate\",'Inflation Rate','HPI']])\n",
    "    df[['Effective Federal Funds Rate',\"Unemployment Rate\",'Inflation Rate','HPI']]=pd.DataFrame(scaler.transform(df[['Effective Federal Funds Rate',\"Unemployment Rate\",'Inflation Rate','HPI']]))\n",
    "    \n",
    "    #Creating a figure and a subplot to plot the values\n",
    "    fig, ax = plt.subplots()\n",
    "    \n",
    "    #plotting the values on the graph\n",
    "    ax.plot(df['Date'], df[\"Effective Federal Funds Rate\"], 'blue')\n",
    "    ax.plot(df['Date'], df[\"Unemployment Rate\"], 'purple')\n",
    "    ax.plot(df['Date'], df[\"Inflation Rate\"], 'cyan')\n",
    "    ax.plot(df['Date'], df[\"HPI\"], 'red')\n",
    "\n",
    "    # Add title and labels\n",
    "    ax.set_title(title)\n",
    "    plt.show()\n",
    "    \n",
    "plot_basic(intrest)"
   ]
  },
  {
   "cell_type": "code",
   "execution_count": 32,
   "metadata": {},
   "outputs": [
    {
     "data": {
      "image/png": "[encoded data removed]",
      "text/plain": [
       "<Figure size 432x288 with 2 Axes>"
      ]
     },
     "metadata": {
      "needs_background": "light"
     },
     "output_type": "display_data"
    }
   ],
   "source": [
    "ax = sns.heatmap(\n",
    "    intrest.corr(),                                  #Passing arguement whose heatmap is to be made\n",
    "    vmin=-1, vmax=1, center=0,                  #Defining dimensions of heatmap\n",
    "    cmap=sns.diverging_palette(20, 220, n=200), #Defining Colorpalatte for heatmap\n",
    "    square=True\n",
    ")\n",
    "\n",
    "ax.set_xticklabels(\n",
    "    ax.get_xticklabels(),\n",
    "    rotation=45,\n",
    "    horizontalalignment='right'\n",
    ");"
   ]
  },
  {
   "cell_type": "code",
   "execution_count": 33,
   "metadata": {},
   "outputs": [
    {
     "data": {
      "text/html": [
       "<div>\n",
       "<style scoped>\n",
       "    .dataframe tbody tr th:only-of-type {\n",
       "        vertical-align: middle;\n",
       "    }\n",
       "\n",
       "    .dataframe tbody tr th {\n",
       "        vertical-align: top;\n",
       "    }\n",
       "\n",
       "    .dataframe thead th {\n",
       "        text-align: right;\n",
       "    }\n",
       "</style>\n",
       "<table border=\"1\" class=\"dataframe\">\n",
       "  <thead>\n",
       "    <tr style=\"text-align: right;\">\n",
       "      <th></th>\n",
       "      <th>Effective Federal Funds Rate</th>\n",
       "      <th>Unemployment Rate</th>\n",
       "      <th>Inflation Rate</th>\n",
       "      <th>HPI</th>\n",
       "    </tr>\n",
       "  </thead>\n",
       "  <tbody>\n",
       "    <tr>\n",
       "      <th>Effective Federal Funds Rate</th>\n",
       "      <td>1.000000</td>\n",
       "      <td>-0.685138</td>\n",
       "      <td>0.623951</td>\n",
       "      <td>-0.114527</td>\n",
       "    </tr>\n",
       "    <tr>\n",
       "      <th>Unemployment Rate</th>\n",
       "      <td>-0.685138</td>\n",
       "      <td>1.000000</td>\n",
       "      <td>-0.649710</td>\n",
       "      <td>-0.150175</td>\n",
       "    </tr>\n",
       "    <tr>\n",
       "      <th>Inflation Rate</th>\n",
       "      <td>0.623951</td>\n",
       "      <td>-0.649710</td>\n",
       "      <td>1.000000</td>\n",
       "      <td>-0.008672</td>\n",
       "    </tr>\n",
       "    <tr>\n",
       "      <th>HPI</th>\n",
       "      <td>-0.114527</td>\n",
       "      <td>-0.150175</td>\n",
       "      <td>-0.008672</td>\n",
       "      <td>1.000000</td>\n",
       "    </tr>\n",
       "  </tbody>\n",
       "</table>\n",
       "</div>"
      ],
      "text/plain": [
       "                              Effective Federal Funds Rate  Unemployment Rate  \\\n",
       "Effective Federal Funds Rate                      1.000000          -0.685138   \n",
       "Unemployment Rate                                -0.685138           1.000000   \n",
       "Inflation Rate                                    0.623951          -0.649710   \n",
       "HPI                                              -0.114527          -0.150175   \n",
       "\n",
       "                              Inflation Rate       HPI  \n",
       "Effective Federal Funds Rate        0.623951 -0.114527  \n",
       "Unemployment Rate                  -0.649710 -0.150175  \n",
       "Inflation Rate                      1.000000 -0.008672  \n",
       "HPI                                -0.008672  1.000000  "
      ]
     },
     "execution_count": 33,
     "metadata": {},
     "output_type": "execute_result"
    }
   ],
   "source": [
    "intrest.corr()"
   ]
  },
  {
   "cell_type": "markdown",
   "metadata": {},
   "source": [
    "We can conclude from our above observations that Inflation Rate, Unemployment Rate and Effective Federal Funds Rate are all not so good predictors for House Price Index"
   ]
  },
  {
   "cell_type": "markdown",
   "metadata": {},
   "source": [
    "# Median Sale Price and Monthly Supply"
   ]
  },
  {
   "cell_type": "code",
   "execution_count": 34,
   "metadata": {},
   "outputs": [
    {
     "data": {
      "text/html": [
       "<div>\n",
       "<style scoped>\n",
       "    .dataframe tbody tr th:only-of-type {\n",
       "        vertical-align: middle;\n",
       "    }\n",
       "\n",
       "    .dataframe tbody tr th {\n",
       "        vertical-align: top;\n",
       "    }\n",
       "\n",
       "    .dataframe thead th {\n",
       "        text-align: right;\n",
       "    }\n",
       "</style>\n",
       "<table border=\"1\" class=\"dataframe\">\n",
       "  <thead>\n",
       "    <tr style=\"text-align: right;\">\n",
       "      <th></th>\n",
       "      <th>DATE</th>\n",
       "      <th>MSPUS</th>\n",
       "    </tr>\n",
       "  </thead>\n",
       "  <tbody>\n",
       "    <tr>\n",
       "      <th>0</th>\n",
       "      <td>1963-01-01</td>\n",
       "      <td>17800.0</td>\n",
       "    </tr>\n",
       "    <tr>\n",
       "      <th>1</th>\n",
       "      <td>1963-04-01</td>\n",
       "      <td>18000.0</td>\n",
       "    </tr>\n",
       "    <tr>\n",
       "      <th>2</th>\n",
       "      <td>1963-07-01</td>\n",
       "      <td>17900.0</td>\n",
       "    </tr>\n",
       "    <tr>\n",
       "      <th>3</th>\n",
       "      <td>1963-10-01</td>\n",
       "      <td>18500.0</td>\n",
       "    </tr>\n",
       "    <tr>\n",
       "      <th>4</th>\n",
       "      <td>1964-01-01</td>\n",
       "      <td>18500.0</td>\n",
       "    </tr>\n",
       "  </tbody>\n",
       "</table>\n",
       "</div>"
      ],
      "text/plain": [
       "         DATE    MSPUS\n",
       "0  1963-01-01  17800.0\n",
       "1  1963-04-01  18000.0\n",
       "2  1963-07-01  17900.0\n",
       "3  1963-10-01  18500.0\n",
       "4  1964-01-01  18500.0"
      ]
     },
     "execution_count": 34,
     "metadata": {},
     "output_type": "execute_result"
    }
   ],
   "source": [
    "Median_Sale_Price=pd.read_csv(\"C:\\\\Users\\\\inasu\\\\Downloads\\\\Houses\\\\MSPUS.csv\")\n",
    "Median_Sale_Price.head()"
   ]
  },
  {
   "cell_type": "code",
   "execution_count": 35,
   "metadata": {},
   "outputs": [
    {
     "data": {
      "text/html": [
       "<div>\n",
       "<style scoped>\n",
       "    .dataframe tbody tr th:only-of-type {\n",
       "        vertical-align: middle;\n",
       "    }\n",
       "\n",
       "    .dataframe tbody tr th {\n",
       "        vertical-align: top;\n",
       "    }\n",
       "\n",
       "    .dataframe thead th {\n",
       "        text-align: right;\n",
       "    }\n",
       "</style>\n",
       "<table border=\"1\" class=\"dataframe\">\n",
       "  <thead>\n",
       "    <tr style=\"text-align: right;\">\n",
       "      <th></th>\n",
       "      <th>DATE</th>\n",
       "      <th>MSACSR</th>\n",
       "    </tr>\n",
       "  </thead>\n",
       "  <tbody>\n",
       "    <tr>\n",
       "      <th>0</th>\n",
       "      <td>1963-01-01</td>\n",
       "      <td>4.7</td>\n",
       "    </tr>\n",
       "    <tr>\n",
       "      <th>1</th>\n",
       "      <td>1963-02-01</td>\n",
       "      <td>6.6</td>\n",
       "    </tr>\n",
       "    <tr>\n",
       "      <th>2</th>\n",
       "      <td>1963-03-01</td>\n",
       "      <td>6.4</td>\n",
       "    </tr>\n",
       "    <tr>\n",
       "      <th>3</th>\n",
       "      <td>1963-04-01</td>\n",
       "      <td>5.3</td>\n",
       "    </tr>\n",
       "    <tr>\n",
       "      <th>4</th>\n",
       "      <td>1963-05-01</td>\n",
       "      <td>5.1</td>\n",
       "    </tr>\n",
       "  </tbody>\n",
       "</table>\n",
       "</div>"
      ],
      "text/plain": [
       "         DATE  MSACSR\n",
       "0  1963-01-01     4.7\n",
       "1  1963-02-01     6.6\n",
       "2  1963-03-01     6.4\n",
       "3  1963-04-01     5.3\n",
       "4  1963-05-01     5.1"
      ]
     },
     "execution_count": 35,
     "metadata": {},
     "output_type": "execute_result"
    }
   ],
   "source": [
    "Monthly_Supply=pd.read_csv(\"C:\\\\Users\\\\inasu\\\\Downloads\\\\Houses\\\\MSACSR.csv\")\n",
    "Monthly_Supply.head()"
   ]
  },
  {
   "cell_type": "code",
   "execution_count": 36,
   "metadata": {},
   "outputs": [
    {
     "data": {
      "text/html": [
       "<div>\n",
       "<style scoped>\n",
       "    .dataframe tbody tr th:only-of-type {\n",
       "        vertical-align: middle;\n",
       "    }\n",
       "\n",
       "    .dataframe tbody tr th {\n",
       "        vertical-align: top;\n",
       "    }\n",
       "\n",
       "    .dataframe thead th {\n",
       "        text-align: right;\n",
       "    }\n",
       "</style>\n",
       "<table border=\"1\" class=\"dataframe\">\n",
       "  <thead>\n",
       "    <tr style=\"text-align: right;\">\n",
       "      <th></th>\n",
       "      <th>DATE</th>\n",
       "      <th>MSPUS</th>\n",
       "      <th>MSACSR</th>\n",
       "    </tr>\n",
       "  </thead>\n",
       "  <tbody>\n",
       "    <tr>\n",
       "      <th>0</th>\n",
       "      <td>1963-01-01</td>\n",
       "      <td>17800.0</td>\n",
       "      <td>4.7</td>\n",
       "    </tr>\n",
       "    <tr>\n",
       "      <th>1</th>\n",
       "      <td>1963-04-01</td>\n",
       "      <td>18000.0</td>\n",
       "      <td>5.3</td>\n",
       "    </tr>\n",
       "    <tr>\n",
       "      <th>2</th>\n",
       "      <td>1963-07-01</td>\n",
       "      <td>17900.0</td>\n",
       "      <td>4.6</td>\n",
       "    </tr>\n",
       "    <tr>\n",
       "      <th>3</th>\n",
       "      <td>1963-10-01</td>\n",
       "      <td>18500.0</td>\n",
       "      <td>5.9</td>\n",
       "    </tr>\n",
       "    <tr>\n",
       "      <th>4</th>\n",
       "      <td>1964-01-01</td>\n",
       "      <td>18500.0</td>\n",
       "      <td>5.8</td>\n",
       "    </tr>\n",
       "  </tbody>\n",
       "</table>\n",
       "</div>"
      ],
      "text/plain": [
       "         DATE    MSPUS  MSACSR\n",
       "0  1963-01-01  17800.0     4.7\n",
       "1  1963-04-01  18000.0     5.3\n",
       "2  1963-07-01  17900.0     4.6\n",
       "3  1963-10-01  18500.0     5.9\n",
       "4  1964-01-01  18500.0     5.8"
      ]
     },
     "execution_count": 36,
     "metadata": {},
     "output_type": "execute_result"
    }
   ],
   "source": [
    "Median_Sale_Price=Median_Sale_Price.merge(Monthly_Supply, left_on='DATE', right_on='DATE')\n",
    "Median_Sale_Price.head()"
   ]
  },
  {
   "cell_type": "code",
   "execution_count": 37,
   "metadata": {},
   "outputs": [
    {
     "data": {
      "text/html": [
       "<div>\n",
       "<style scoped>\n",
       "    .dataframe tbody tr th:only-of-type {\n",
       "        vertical-align: middle;\n",
       "    }\n",
       "\n",
       "    .dataframe tbody tr th {\n",
       "        vertical-align: top;\n",
       "    }\n",
       "\n",
       "    .dataframe thead th {\n",
       "        text-align: right;\n",
       "    }\n",
       "</style>\n",
       "<table border=\"1\" class=\"dataframe\">\n",
       "  <thead>\n",
       "    <tr style=\"text-align: right;\">\n",
       "      <th></th>\n",
       "      <th>DATE</th>\n",
       "      <th>MSPUS</th>\n",
       "      <th>MSACSR</th>\n",
       "      <th>HPI</th>\n",
       "    </tr>\n",
       "  </thead>\n",
       "  <tbody>\n",
       "    <tr>\n",
       "      <th>0</th>\n",
       "      <td>2000-01-01</td>\n",
       "      <td>165300.0</td>\n",
       "      <td>4.3</td>\n",
       "      <td>100.552</td>\n",
       "    </tr>\n",
       "    <tr>\n",
       "      <th>1</th>\n",
       "      <td>2000-04-01</td>\n",
       "      <td>163200.0</td>\n",
       "      <td>4.4</td>\n",
       "      <td>102.922</td>\n",
       "    </tr>\n",
       "    <tr>\n",
       "      <th>2</th>\n",
       "      <td>2000-07-01</td>\n",
       "      <td>168800.0</td>\n",
       "      <td>4.1</td>\n",
       "      <td>105.053</td>\n",
       "    </tr>\n",
       "    <tr>\n",
       "      <th>3</th>\n",
       "      <td>2000-10-01</td>\n",
       "      <td>172900.0</td>\n",
       "      <td>4.0</td>\n",
       "      <td>107.380</td>\n",
       "    </tr>\n",
       "    <tr>\n",
       "      <th>4</th>\n",
       "      <td>2001-01-01</td>\n",
       "      <td>169800.0</td>\n",
       "      <td>3.8</td>\n",
       "      <td>109.846</td>\n",
       "    </tr>\n",
       "  </tbody>\n",
       "</table>\n",
       "</div>"
      ],
      "text/plain": [
       "        DATE     MSPUS  MSACSR      HPI\n",
       "0 2000-01-01  165300.0     4.3  100.552\n",
       "1 2000-04-01  163200.0     4.4  102.922\n",
       "2 2000-07-01  168800.0     4.1  105.053\n",
       "3 2000-10-01  172900.0     4.0  107.380\n",
       "4 2001-01-01  169800.0     3.8  109.846"
      ]
     },
     "execution_count": 37,
     "metadata": {},
     "output_type": "execute_result"
    }
   ],
   "source": [
    "Median_Sale_Price[\"DATE\"]=pd.to_datetime(Median_Sale_Price[\"DATE\"])\n",
    "Median_Sale_Price=Median_Sale_Price.merge(HPI, left_on='DATE', right_on='Date').drop(\"Date\",axis=1)\n",
    "Median_Sale_Price.head()"
   ]
  },
  {
   "cell_type": "code",
   "execution_count": 38,
   "metadata": {},
   "outputs": [
    {
     "data": {
      "image/png": "[encoded data removed]",
      "text/plain": [
       "<Figure size 432x288 with 2 Axes>"
      ]
     },
     "metadata": {
      "needs_background": "light"
     },
     "output_type": "display_data"
    }
   ],
   "source": [
    "ax = sns.heatmap(\n",
    "    Median_Sale_Price.corr(),                                  #Passing arguement whose heatmap is to be made\n",
    "    vmin=-1, vmax=1, center=0,                  #Defining dimensions of heatmap\n",
    "    cmap=sns.diverging_palette(20, 220, n=200), #Defining Colorpalatte for heatmap\n",
    "    square=True\n",
    ")\n",
    "\n",
    "ax.set_xticklabels(\n",
    "    ax.get_xticklabels(),\n",
    "    rotation=45,\n",
    "    horizontalalignment='right'\n",
    ");"
   ]
  },
  {
   "cell_type": "code",
   "execution_count": 39,
   "metadata": {},
   "outputs": [
    {
     "data": {
      "text/html": [
       "<div>\n",
       "<style scoped>\n",
       "    .dataframe tbody tr th:only-of-type {\n",
       "        vertical-align: middle;\n",
       "    }\n",
       "\n",
       "    .dataframe tbody tr th {\n",
       "        vertical-align: top;\n",
       "    }\n",
       "\n",
       "    .dataframe thead th {\n",
       "        text-align: right;\n",
       "    }\n",
       "</style>\n",
       "<table border=\"1\" class=\"dataframe\">\n",
       "  <thead>\n",
       "    <tr style=\"text-align: right;\">\n",
       "      <th></th>\n",
       "      <th>MSPUS</th>\n",
       "      <th>MSACSR</th>\n",
       "      <th>HPI</th>\n",
       "    </tr>\n",
       "  </thead>\n",
       "  <tbody>\n",
       "    <tr>\n",
       "      <th>MSPUS</th>\n",
       "      <td>1.000000</td>\n",
       "      <td>0.029014</td>\n",
       "      <td>0.899287</td>\n",
       "    </tr>\n",
       "    <tr>\n",
       "      <th>MSACSR</th>\n",
       "      <td>0.029014</td>\n",
       "      <td>1.000000</td>\n",
       "      <td>0.196611</td>\n",
       "    </tr>\n",
       "    <tr>\n",
       "      <th>HPI</th>\n",
       "      <td>0.899287</td>\n",
       "      <td>0.196611</td>\n",
       "      <td>1.000000</td>\n",
       "    </tr>\n",
       "  </tbody>\n",
       "</table>\n",
       "</div>"
      ],
      "text/plain": [
       "           MSPUS    MSACSR       HPI\n",
       "MSPUS   1.000000  0.029014  0.899287\n",
       "MSACSR  0.029014  1.000000  0.196611\n",
       "HPI     0.899287  0.196611  1.000000"
      ]
     },
     "execution_count": 39,
     "metadata": {},
     "output_type": "execute_result"
    }
   ],
   "source": [
    "Median_Sale_Price.corr()"
   ]
  },
  {
   "cell_type": "code",
   "execution_count": 40,
   "metadata": {},
   "outputs": [
    {
     "data": {
      "image/png": "[encoded data removed]",
      "text/plain": [
       "<Figure size 432x288 with 1 Axes>"
      ]
     },
     "metadata": {
      "needs_background": "light"
     },
     "output_type": "display_data"
    }
   ],
   "source": [
    "def plot_basic(df, title='House Price Index vs House Supply'):\n",
    "    #Fitting both the values on same scale for comparasion\n",
    "    #Fitting both the values on same scale for comparasion\n",
    "    scaler.fit(df[['MSPUS',\"MSACSR\",'HPI']])\n",
    "    df[['MSPUS',\"MSACSR\",'HPI']]=pd.DataFrame(scaler.transform(df[['MSPUS',\"MSACSR\",'HPI']]))\n",
    "    \n",
    "    #Creating a figure and a subplot to plot the values\n",
    "    fig, ax = plt.subplots()\n",
    "    \n",
    "    #plotting the values on the graph\n",
    "    ax.plot(df['DATE'], df[\"MSPUS\"], 'blue')\n",
    "    ax.plot(df['DATE'], df[\"MSACSR\"], 'purple')\n",
    "    ax.plot(df['DATE'], df[\"HPI\"], 'red')\n",
    "\n",
    "    # Add title and labels\n",
    "    ax.set_title(title)\n",
    "    plt.show()\n",
    "    \n",
    "plot_basic(Median_Sale_Price)"
   ]
  },
  {
   "cell_type": "markdown",
   "metadata": {},
   "source": [
    "From the above data we can conclude that House Supply in the market also hasnt been a good predictor for HPI in the past 20 years"
   ]
  },
  {
   "cell_type": "markdown",
   "metadata": {},
   "source": [
    "# GDP"
   ]
  },
  {
   "cell_type": "code",
   "execution_count": 41,
   "metadata": {},
   "outputs": [
    {
     "data": {
      "text/html": [
       "<div>\n",
       "<style scoped>\n",
       "    .dataframe tbody tr th:only-of-type {\n",
       "        vertical-align: middle;\n",
       "    }\n",
       "\n",
       "    .dataframe tbody tr th {\n",
       "        vertical-align: top;\n",
       "    }\n",
       "\n",
       "    .dataframe thead th {\n",
       "        text-align: right;\n",
       "    }\n",
       "</style>\n",
       "<table border=\"1\" class=\"dataframe\">\n",
       "  <thead>\n",
       "    <tr style=\"text-align: right;\">\n",
       "      <th></th>\n",
       "      <th>Country</th>\n",
       "      <th>Country Code</th>\n",
       "      <th>1990</th>\n",
       "      <th>1991</th>\n",
       "      <th>1992</th>\n",
       "      <th>1993</th>\n",
       "      <th>1994</th>\n",
       "      <th>1995</th>\n",
       "      <th>1996</th>\n",
       "      <th>1997</th>\n",
       "      <th>...</th>\n",
       "      <th>2010</th>\n",
       "      <th>2011</th>\n",
       "      <th>2012</th>\n",
       "      <th>2013</th>\n",
       "      <th>2014</th>\n",
       "      <th>2015</th>\n",
       "      <th>2016</th>\n",
       "      <th>2017</th>\n",
       "      <th>2018</th>\n",
       "      <th>2019</th>\n",
       "    </tr>\n",
       "  </thead>\n",
       "  <tbody>\n",
       "    <tr>\n",
       "      <th>0</th>\n",
       "      <td>Aruba</td>\n",
       "      <td>ABW</td>\n",
       "      <td>24101.109430</td>\n",
       "      <td>25870.755940</td>\n",
       "      <td>26533.343900</td>\n",
       "      <td>27430.752400</td>\n",
       "      <td>28656.520210</td>\n",
       "      <td>28648.990020</td>\n",
       "      <td>28499.089430</td>\n",
       "      <td>30215.949230</td>\n",
       "      <td>...</td>\n",
       "      <td>33732.847450</td>\n",
       "      <td>35492.618490</td>\n",
       "      <td>35498.982090</td>\n",
       "      <td>37419.892820</td>\n",
       "      <td>38223.372260</td>\n",
       "      <td>38249.054870</td>\n",
       "      <td>38390.271650</td>\n",
       "      <td>39454.629830</td>\n",
       "      <td>NaN</td>\n",
       "      <td>NaN</td>\n",
       "    </tr>\n",
       "    <tr>\n",
       "      <th>1</th>\n",
       "      <td>Afghanistan</td>\n",
       "      <td>AFG</td>\n",
       "      <td>NaN</td>\n",
       "      <td>NaN</td>\n",
       "      <td>NaN</td>\n",
       "      <td>NaN</td>\n",
       "      <td>NaN</td>\n",
       "      <td>NaN</td>\n",
       "      <td>NaN</td>\n",
       "      <td>NaN</td>\n",
       "      <td>...</td>\n",
       "      <td>1637.377987</td>\n",
       "      <td>1626.764793</td>\n",
       "      <td>1806.763930</td>\n",
       "      <td>1874.765634</td>\n",
       "      <td>1897.525938</td>\n",
       "      <td>1886.692977</td>\n",
       "      <td>1896.992520</td>\n",
       "      <td>1934.636754</td>\n",
       "      <td>1955.006208</td>\n",
       "      <td>NaN</td>\n",
       "    </tr>\n",
       "    <tr>\n",
       "      <th>2</th>\n",
       "      <td>Angola</td>\n",
       "      <td>AGO</td>\n",
       "      <td>3089.683369</td>\n",
       "      <td>3120.356148</td>\n",
       "      <td>2908.160798</td>\n",
       "      <td>2190.768160</td>\n",
       "      <td>2195.532289</td>\n",
       "      <td>2496.199493</td>\n",
       "      <td>2794.896906</td>\n",
       "      <td>2953.342709</td>\n",
       "      <td>...</td>\n",
       "      <td>6230.297028</td>\n",
       "      <td>6346.395122</td>\n",
       "      <td>6772.528333</td>\n",
       "      <td>6980.423038</td>\n",
       "      <td>7199.245478</td>\n",
       "      <td>7096.600615</td>\n",
       "      <td>6756.935074</td>\n",
       "      <td>6650.584940</td>\n",
       "      <td>6452.355165</td>\n",
       "      <td>NaN</td>\n",
       "    </tr>\n",
       "    <tr>\n",
       "      <th>3</th>\n",
       "      <td>Albania</td>\n",
       "      <td>ALB</td>\n",
       "      <td>2549.473022</td>\n",
       "      <td>1909.114038</td>\n",
       "      <td>1823.307673</td>\n",
       "      <td>2057.449657</td>\n",
       "      <td>2289.873135</td>\n",
       "      <td>2665.764906</td>\n",
       "      <td>2980.066288</td>\n",
       "      <td>2717.362124</td>\n",
       "      <td>...</td>\n",
       "      <td>9628.025783</td>\n",
       "      <td>10207.752350</td>\n",
       "      <td>10526.235450</td>\n",
       "      <td>10571.010650</td>\n",
       "      <td>11259.225890</td>\n",
       "      <td>11662.030480</td>\n",
       "      <td>11868.178970</td>\n",
       "      <td>12930.140030</td>\n",
       "      <td>13364.155400</td>\n",
       "      <td>NaN</td>\n",
       "    </tr>\n",
       "    <tr>\n",
       "      <th>4</th>\n",
       "      <td>Arab World</td>\n",
       "      <td>ARB</td>\n",
       "      <td>6808.206995</td>\n",
       "      <td>6872.273195</td>\n",
       "      <td>7255.328362</td>\n",
       "      <td>7458.647059</td>\n",
       "      <td>7645.682856</td>\n",
       "      <td>7774.207360</td>\n",
       "      <td>8094.149842</td>\n",
       "      <td>8397.515692</td>\n",
       "      <td>...</td>\n",
       "      <td>14127.778020</td>\n",
       "      <td>14518.827450</td>\n",
       "      <td>15423.465390</td>\n",
       "      <td>15824.780110</td>\n",
       "      <td>16153.244860</td>\n",
       "      <td>16501.792590</td>\n",
       "      <td>16935.383300</td>\n",
       "      <td>17099.889390</td>\n",
       "      <td>17570.137600</td>\n",
       "      <td>NaN</td>\n",
       "    </tr>\n",
       "  </tbody>\n",
       "</table>\n",
       "<p>5 rows × 32 columns</p>\n",
       "</div>"
      ],
      "text/plain": [
       "      Country  Country Code          1990          1991          1992  \\\n",
       "0        Aruba          ABW  24101.109430  25870.755940  26533.343900   \n",
       "1  Afghanistan          AFG           NaN           NaN           NaN   \n",
       "2       Angola          AGO   3089.683369   3120.356148   2908.160798   \n",
       "3      Albania          ALB   2549.473022   1909.114038   1823.307673   \n",
       "4   Arab World          ARB   6808.206995   6872.273195   7255.328362   \n",
       "\n",
       "           1993          1994          1995          1996          1997  ...  \\\n",
       "0  27430.752400  28656.520210  28648.990020  28499.089430  30215.949230  ...   \n",
       "1           NaN           NaN           NaN           NaN           NaN  ...   \n",
       "2   2190.768160   2195.532289   2496.199493   2794.896906   2953.342709  ...   \n",
       "3   2057.449657   2289.873135   2665.764906   2980.066288   2717.362124  ...   \n",
       "4   7458.647059   7645.682856   7774.207360   8094.149842   8397.515692  ...   \n",
       "\n",
       "           2010          2011          2012          2013          2014  \\\n",
       "0  33732.847450  35492.618490  35498.982090  37419.892820  38223.372260   \n",
       "1   1637.377987   1626.764793   1806.763930   1874.765634   1897.525938   \n",
       "2   6230.297028   6346.395122   6772.528333   6980.423038   7199.245478   \n",
       "3   9628.025783  10207.752350  10526.235450  10571.010650  11259.225890   \n",
       "4  14127.778020  14518.827450  15423.465390  15824.780110  16153.244860   \n",
       "\n",
       "           2015          2016          2017          2018  2019  \n",
       "0  38249.054870  38390.271650  39454.629830           NaN   NaN  \n",
       "1   1886.692977   1896.992520   1934.636754   1955.006208   NaN  \n",
       "2   7096.600615   6756.935074   6650.584940   6452.355165   NaN  \n",
       "3  11662.030480  11868.178970  12930.140030  13364.155400   NaN  \n",
       "4  16501.792590  16935.383300  17099.889390  17570.137600   NaN  \n",
       "\n",
       "[5 rows x 32 columns]"
      ]
     },
     "execution_count": 41,
     "metadata": {},
     "output_type": "execute_result"
    }
   ],
   "source": [
    "GDP=pd.read_csv(\"C:\\\\Users\\\\inasu\\\\Downloads\\\\Houses\\\\GDP.csv\")\n",
    "GDP.head()"
   ]
  },
  {
   "cell_type": "code",
   "execution_count": 42,
   "metadata": {},
   "outputs": [],
   "source": [
    "GDP=GDP[GDP[\"Country Code\"]=='USA'].drop([\"Country \",\"Country Code\"],axis=1).T\n",
    "GDP[\"Year\"]=GDP.index.astype(int)\n",
    "GDP[\"GDP\"]=GDP[245]\n",
    "GDP=GDP.drop(245,axis=1).reset_index(drop=True)"
   ]
  },
  {
   "cell_type": "code",
   "execution_count": 43,
   "metadata": {},
   "outputs": [
    {
     "data": {
      "text/html": [
       "<div>\n",
       "<style scoped>\n",
       "    .dataframe tbody tr th:only-of-type {\n",
       "        vertical-align: middle;\n",
       "    }\n",
       "\n",
       "    .dataframe tbody tr th {\n",
       "        vertical-align: top;\n",
       "    }\n",
       "\n",
       "    .dataframe thead th {\n",
       "        text-align: right;\n",
       "    }\n",
       "</style>\n",
       "<table border=\"1\" class=\"dataframe\">\n",
       "  <thead>\n",
       "    <tr style=\"text-align: right;\">\n",
       "      <th></th>\n",
       "      <th>Year</th>\n",
       "      <th>GDP</th>\n",
       "    </tr>\n",
       "  </thead>\n",
       "  <tbody>\n",
       "    <tr>\n",
       "      <th>0</th>\n",
       "      <td>1990</td>\n",
       "      <td>23888.60001</td>\n",
       "    </tr>\n",
       "    <tr>\n",
       "      <th>1</th>\n",
       "      <td>1991</td>\n",
       "      <td>24342.25890</td>\n",
       "    </tr>\n",
       "    <tr>\n",
       "      <th>2</th>\n",
       "      <td>1992</td>\n",
       "      <td>25418.99078</td>\n",
       "    </tr>\n",
       "    <tr>\n",
       "      <th>3</th>\n",
       "      <td>1993</td>\n",
       "      <td>26387.29373</td>\n",
       "    </tr>\n",
       "    <tr>\n",
       "      <th>4</th>\n",
       "      <td>1994</td>\n",
       "      <td>27694.85342</td>\n",
       "    </tr>\n",
       "  </tbody>\n",
       "</table>\n",
       "</div>"
      ],
      "text/plain": [
       "   Year          GDP\n",
       "0  1990  23888.60001\n",
       "1  1991  24342.25890\n",
       "2  1992  25418.99078\n",
       "3  1993  26387.29373\n",
       "4  1994  27694.85342"
      ]
     },
     "execution_count": 43,
     "metadata": {},
     "output_type": "execute_result"
    }
   ],
   "source": [
    "GDP.head()"
   ]
  },
  {
   "cell_type": "code",
   "execution_count": 44,
   "metadata": {},
   "outputs": [
    {
     "data": {
      "text/html": [
       "<div>\n",
       "<style scoped>\n",
       "    .dataframe tbody tr th:only-of-type {\n",
       "        vertical-align: middle;\n",
       "    }\n",
       "\n",
       "    .dataframe tbody tr th {\n",
       "        vertical-align: top;\n",
       "    }\n",
       "\n",
       "    .dataframe thead th {\n",
       "        text-align: right;\n",
       "    }\n",
       "</style>\n",
       "<table border=\"1\" class=\"dataframe\">\n",
       "  <thead>\n",
       "    <tr style=\"text-align: right;\">\n",
       "      <th></th>\n",
       "      <th>Year</th>\n",
       "      <th>GDP</th>\n",
       "      <th>HPI</th>\n",
       "    </tr>\n",
       "  </thead>\n",
       "  <tbody>\n",
       "    <tr>\n",
       "      <th>0</th>\n",
       "      <td>2000</td>\n",
       "      <td>36334.90878</td>\n",
       "      <td>104.767917</td>\n",
       "    </tr>\n",
       "    <tr>\n",
       "      <th>1</th>\n",
       "      <td>2001</td>\n",
       "      <td>37133.24281</td>\n",
       "      <td>113.178500</td>\n",
       "    </tr>\n",
       "    <tr>\n",
       "      <th>2</th>\n",
       "      <td>2002</td>\n",
       "      <td>38023.16111</td>\n",
       "      <td>122.278250</td>\n",
       "    </tr>\n",
       "    <tr>\n",
       "      <th>3</th>\n",
       "      <td>2003</td>\n",
       "      <td>39496.48588</td>\n",
       "      <td>133.730833</td>\n",
       "    </tr>\n",
       "    <tr>\n",
       "      <th>4</th>\n",
       "      <td>2004</td>\n",
       "      <td>41712.80107</td>\n",
       "      <td>150.439250</td>\n",
       "    </tr>\n",
       "  </tbody>\n",
       "</table>\n",
       "</div>"
      ],
      "text/plain": [
       "   Year          GDP         HPI\n",
       "0  2000  36334.90878  104.767917\n",
       "1  2001  37133.24281  113.178500\n",
       "2  2002  38023.16111  122.278250\n",
       "3  2003  39496.48588  133.730833\n",
       "4  2004  41712.80107  150.439250"
      ]
     },
     "execution_count": 44,
     "metadata": {},
     "output_type": "execute_result"
    }
   ],
   "source": [
    "GDP=GDP.merge(HPI.groupby(pd.DatetimeIndex(HPI['Date']).year).mean(), left_on='Year', right_on='Date')\n",
    "GDP.head()"
   ]
  },
  {
   "cell_type": "code",
   "execution_count": 45,
   "metadata": {},
   "outputs": [
    {
     "data": {
      "image/png": "[encoded data removed]",
      "text/plain": [
       "<Figure size 432x288 with 1 Axes>"
      ]
     },
     "metadata": {
      "needs_background": "light"
     },
     "output_type": "display_data"
    }
   ],
   "source": [
    "def plot_basic(df, title='House Price Index vs GDP'):\n",
    "    #Fitting both the values on same scale for comparasion\n",
    "    #Fitting both the values on same scale for comparasion\n",
    "    scaler.fit(df)\n",
    "    df=pd.DataFrame(scaler.transform(df))\n",
    "    \n",
    "    #Creating a figure and a subplot to plot the values\n",
    "    fig, ax = plt.subplots()\n",
    "    \n",
    "    #plotting the values on the graph\n",
    "    ax.plot(df[0], df[1], 'blue')\n",
    "    ax.plot(df[0], df[2], 'red')\n",
    "\n",
    "    # Add title and labels\n",
    "    ax.set_title(title)\n",
    "    plt.show()\n",
    "    \n",
    "plot_basic(GDP)"
   ]
  },
  {
   "cell_type": "code",
   "execution_count": 46,
   "metadata": {},
   "outputs": [
    {
     "data": {
      "image/png": "[encoded data removed]",
      "text/plain": [
       "<Figure size 432x288 with 2 Axes>"
      ]
     },
     "metadata": {
      "needs_background": "light"
     },
     "output_type": "display_data"
    }
   ],
   "source": [
    "ax = sns.heatmap(\n",
    "    GDP.corr(),                                  #Passing arguement whose heatmap is to be made\n",
    "    vmin=-1, vmax=1, center=0,                  #Defining dimensions of heatmap\n",
    "    cmap=sns.diverging_palette(20, 220, n=200), #Defining Colorpalatte for heatmap\n",
    "    square=True\n",
    ")\n",
    "\n",
    "ax.set_xticklabels(\n",
    "    ax.get_xticklabels(),\n",
    "    rotation=45,\n",
    "    horizontalalignment='right'\n",
    ");"
   ]
  },
  {
   "cell_type": "code",
   "execution_count": 47,
   "metadata": {},
   "outputs": [
    {
     "data": {
      "text/html": [
       "<div>\n",
       "<style scoped>\n",
       "    .dataframe tbody tr th:only-of-type {\n",
       "        vertical-align: middle;\n",
       "    }\n",
       "\n",
       "    .dataframe tbody tr th {\n",
       "        vertical-align: top;\n",
       "    }\n",
       "\n",
       "    .dataframe thead th {\n",
       "        text-align: right;\n",
       "    }\n",
       "</style>\n",
       "<table border=\"1\" class=\"dataframe\">\n",
       "  <thead>\n",
       "    <tr style=\"text-align: right;\">\n",
       "      <th></th>\n",
       "      <th>Year</th>\n",
       "      <th>GDP</th>\n",
       "      <th>HPI</th>\n",
       "    </tr>\n",
       "  </thead>\n",
       "  <tbody>\n",
       "    <tr>\n",
       "      <th>Year</th>\n",
       "      <td>1.000000</td>\n",
       "      <td>0.988828</td>\n",
       "      <td>0.755706</td>\n",
       "    </tr>\n",
       "    <tr>\n",
       "      <th>GDP</th>\n",
       "      <td>0.988828</td>\n",
       "      <td>1.000000</td>\n",
       "      <td>0.792639</td>\n",
       "    </tr>\n",
       "    <tr>\n",
       "      <th>HPI</th>\n",
       "      <td>0.755706</td>\n",
       "      <td>0.792639</td>\n",
       "      <td>1.000000</td>\n",
       "    </tr>\n",
       "  </tbody>\n",
       "</table>\n",
       "</div>"
      ],
      "text/plain": [
       "          Year       GDP       HPI\n",
       "Year  1.000000  0.988828  0.755706\n",
       "GDP   0.988828  1.000000  0.792639\n",
       "HPI   0.755706  0.792639  1.000000"
      ]
     },
     "execution_count": 47,
     "metadata": {},
     "output_type": "execute_result"
    }
   ],
   "source": [
    "GDP.corr()"
   ]
  },
  {
   "cell_type": "markdown",
   "metadata": {},
   "source": [
    "We can say that GDP is an inportant factor in deciding the House Prices"
   ]
  },
  {
   "cell_type": "markdown",
   "metadata": {},
   "source": [
    "# Bank Failure"
   ]
  },
  {
   "cell_type": "code",
   "execution_count": 48,
   "metadata": {},
   "outputs": [
    {
     "data": {
      "text/html": [
       "<div>\n",
       "<style scoped>\n",
       "    .dataframe tbody tr th:only-of-type {\n",
       "        vertical-align: middle;\n",
       "    }\n",
       "\n",
       "    .dataframe tbody tr th {\n",
       "        vertical-align: top;\n",
       "    }\n",
       "\n",
       "    .dataframe thead th {\n",
       "        text-align: right;\n",
       "    }\n",
       "</style>\n",
       "<table border=\"1\" class=\"dataframe\">\n",
       "  <thead>\n",
       "    <tr style=\"text-align: right;\">\n",
       "      <th></th>\n",
       "      <th>Financial Institution Number</th>\n",
       "      <th>Institution Name</th>\n",
       "      <th>Institution Type</th>\n",
       "      <th>Charter Type</th>\n",
       "      <th>Headquarters</th>\n",
       "      <th>Failure Date</th>\n",
       "      <th>Insurance Fund</th>\n",
       "      <th>Certificate Number</th>\n",
       "      <th>Transaction Type</th>\n",
       "      <th>Total Deposits</th>\n",
       "      <th>Total Assets</th>\n",
       "      <th>Estimated Loss (2015)</th>\n",
       "    </tr>\n",
       "  </thead>\n",
       "  <tbody>\n",
       "    <tr>\n",
       "      <th>0</th>\n",
       "      <td>NaN</td>\n",
       "      <td>BANK OF AMERICA TRUST CO.</td>\n",
       "      <td>COMMERCIAL BANK</td>\n",
       "      <td>STATE</td>\n",
       "      <td>PITTSBURGH, PA</td>\n",
       "      <td>4/19/1934</td>\n",
       "      <td>FDIC</td>\n",
       "      <td>NaN</td>\n",
       "      <td>PAYOUT</td>\n",
       "      <td>1064</td>\n",
       "      <td>1435.0</td>\n",
       "      <td>NaN</td>\n",
       "    </tr>\n",
       "    <tr>\n",
       "      <th>1</th>\n",
       "      <td>NaN</td>\n",
       "      <td>FON DU LAC STATE BANK</td>\n",
       "      <td>COMMERCIAL BANK</td>\n",
       "      <td>STATE</td>\n",
       "      <td>EAST PEORIA, IL</td>\n",
       "      <td>5/28/1934</td>\n",
       "      <td>FDIC</td>\n",
       "      <td>NaN</td>\n",
       "      <td>PAYOUT</td>\n",
       "      <td>238</td>\n",
       "      <td>374.0</td>\n",
       "      <td>NaN</td>\n",
       "    </tr>\n",
       "    <tr>\n",
       "      <th>2</th>\n",
       "      <td>NaN</td>\n",
       "      <td>FIRST NATIONAL BANK OF LIMA</td>\n",
       "      <td>COMMERCIAL BANK</td>\n",
       "      <td>FEDERAL</td>\n",
       "      <td>LIMA, MT</td>\n",
       "      <td>7/18/1934</td>\n",
       "      <td>FDIC</td>\n",
       "      <td>NaN</td>\n",
       "      <td>PAYOUT</td>\n",
       "      <td>42</td>\n",
       "      <td>91.0</td>\n",
       "      <td>NaN</td>\n",
       "    </tr>\n",
       "    <tr>\n",
       "      <th>3</th>\n",
       "      <td>NaN</td>\n",
       "      <td>FLORENCE DEPOSIT BANK</td>\n",
       "      <td>COMMERCIAL BANK</td>\n",
       "      <td>STATE</td>\n",
       "      <td>FLORENCE, IN</td>\n",
       "      <td>7/18/1934</td>\n",
       "      <td>FDIC</td>\n",
       "      <td>NaN</td>\n",
       "      <td>PAYOUT</td>\n",
       "      <td>69</td>\n",
       "      <td>105.0</td>\n",
       "      <td>NaN</td>\n",
       "    </tr>\n",
       "    <tr>\n",
       "      <th>4</th>\n",
       "      <td>NaN</td>\n",
       "      <td>BANK OF LEWISPORT</td>\n",
       "      <td>COMMERCIAL BANK</td>\n",
       "      <td>STATE</td>\n",
       "      <td>LEWISPORT, KY</td>\n",
       "      <td>8/6/1934</td>\n",
       "      <td>FDIC</td>\n",
       "      <td>NaN</td>\n",
       "      <td>PAYOUT</td>\n",
       "      <td>68</td>\n",
       "      <td>81.0</td>\n",
       "      <td>NaN</td>\n",
       "    </tr>\n",
       "  </tbody>\n",
       "</table>\n",
       "</div>"
      ],
      "text/plain": [
       "   Financial Institution Number             Institution Name Institution Type  \\\n",
       "0                           NaN    BANK OF AMERICA TRUST CO.  COMMERCIAL BANK   \n",
       "1                           NaN        FON DU LAC STATE BANK  COMMERCIAL BANK   \n",
       "2                           NaN  FIRST NATIONAL BANK OF LIMA  COMMERCIAL BANK   \n",
       "3                           NaN        FLORENCE DEPOSIT BANK  COMMERCIAL BANK   \n",
       "4                           NaN            BANK OF LEWISPORT  COMMERCIAL BANK   \n",
       "\n",
       "  Charter Type     Headquarters Failure Date Insurance Fund  \\\n",
       "0        STATE   PITTSBURGH, PA   4/19/1934            FDIC   \n",
       "1        STATE  EAST PEORIA, IL   5/28/1934            FDIC   \n",
       "2      FEDERAL         LIMA, MT   7/18/1934            FDIC   \n",
       "3        STATE     FLORENCE, IN   7/18/1934            FDIC   \n",
       "4        STATE    LEWISPORT, KY    8/6/1934            FDIC   \n",
       "\n",
       "   Certificate Number Transaction Type  Total Deposits  Total Assets  \\\n",
       "0                 NaN           PAYOUT            1064        1435.0   \n",
       "1                 NaN           PAYOUT             238         374.0   \n",
       "2                 NaN           PAYOUT              42          91.0   \n",
       "3                 NaN           PAYOUT              69         105.0   \n",
       "4                 NaN           PAYOUT              68          81.0   \n",
       "\n",
       "   Estimated Loss (2015)  \n",
       "0                    NaN  \n",
       "1                    NaN  \n",
       "2                    NaN  \n",
       "3                    NaN  \n",
       "4                    NaN  "
      ]
     },
     "execution_count": 48,
     "metadata": {},
     "output_type": "execute_result"
    }
   ],
   "source": [
    "banks=pd.read_csv(\"C:\\\\Users\\\\inasu\\\\Downloads\\\\Houses\\\\banks.csv\")\n",
    "banks.head()"
   ]
  },
  {
   "cell_type": "code",
   "execution_count": 49,
   "metadata": {},
   "outputs": [],
   "source": [
    "banks.drop(['Headquarters','Financial Institution Number','Institution Name','Institution Type','Charter Type','Insurance Fund','Certificate Number','Transaction Type'],axis=1,inplace=True)"
   ]
  },
  {
   "cell_type": "code",
   "execution_count": 50,
   "metadata": {},
   "outputs": [
    {
     "data": {
      "text/plain": [
       "Failure Date               0\n",
       "Total Deposits             0\n",
       "Total Assets             151\n",
       "Estimated Loss (2015)    975\n",
       "dtype: int64"
      ]
     },
     "execution_count": 50,
     "metadata": {},
     "output_type": "execute_result"
    }
   ],
   "source": [
    "banks.isna().sum()"
   ]
  },
  {
   "cell_type": "code",
   "execution_count": 51,
   "metadata": {},
   "outputs": [
    {
     "name": "stdout",
     "output_type": "stream",
     "text": [
      "<class 'pandas.core.frame.DataFrame'>\n",
      "RangeIndex: 3484 entries, 0 to 3483\n",
      "Data columns (total 4 columns):\n",
      " #   Column                 Non-Null Count  Dtype  \n",
      "---  ------                 --------------  -----  \n",
      " 0   Failure Date           3484 non-null   object \n",
      " 1   Total Deposits         3484 non-null   int64  \n",
      " 2   Total Assets           3333 non-null   float64\n",
      " 3   Estimated Loss (2015)  2509 non-null   float64\n",
      "dtypes: float64(2), int64(1), object(1)\n",
      "memory usage: 109.0+ KB\n"
     ]
    }
   ],
   "source": [
    "banks.info()"
   ]
  },
  {
   "cell_type": "code",
   "execution_count": 52,
   "metadata": {},
   "outputs": [
    {
     "data": {
      "text/html": [
       "<div>\n",
       "<style scoped>\n",
       "    .dataframe tbody tr th:only-of-type {\n",
       "        vertical-align: middle;\n",
       "    }\n",
       "\n",
       "    .dataframe tbody tr th {\n",
       "        vertical-align: top;\n",
       "    }\n",
       "\n",
       "    .dataframe thead th {\n",
       "        text-align: right;\n",
       "    }\n",
       "</style>\n",
       "<table border=\"1\" class=\"dataframe\">\n",
       "  <thead>\n",
       "    <tr style=\"text-align: right;\">\n",
       "      <th></th>\n",
       "      <th>Total Deposits</th>\n",
       "      <th>Total Assets</th>\n",
       "      <th>Estimated Loss (2015)</th>\n",
       "    </tr>\n",
       "    <tr>\n",
       "      <th>Failure Date</th>\n",
       "      <th></th>\n",
       "      <th></th>\n",
       "      <th></th>\n",
       "    </tr>\n",
       "  </thead>\n",
       "  <tbody>\n",
       "    <tr>\n",
       "      <th>1934</th>\n",
       "      <td>1966</td>\n",
       "      <td>2661</td>\n",
       "      <td>0</td>\n",
       "    </tr>\n",
       "    <tr>\n",
       "      <th>1935</th>\n",
       "      <td>13377</td>\n",
       "      <td>12324</td>\n",
       "      <td>0</td>\n",
       "    </tr>\n",
       "    <tr>\n",
       "      <th>1936</th>\n",
       "      <td>27762</td>\n",
       "      <td>12927</td>\n",
       "      <td>0</td>\n",
       "    </tr>\n",
       "    <tr>\n",
       "      <th>1937</th>\n",
       "      <td>32804</td>\n",
       "      <td>19284</td>\n",
       "      <td>0</td>\n",
       "    </tr>\n",
       "    <tr>\n",
       "      <th>1938</th>\n",
       "      <td>62064</td>\n",
       "      <td>13919</td>\n",
       "      <td>0</td>\n",
       "    </tr>\n",
       "  </tbody>\n",
       "</table>\n",
       "</div>"
      ],
      "text/plain": [
       "              Total Deposits  Total Assets  Estimated Loss (2015)\n",
       "Failure Date                                                     \n",
       "1934                    1966          2661                      0\n",
       "1935                   13377         12324                      0\n",
       "1936                   27762         12927                      0\n",
       "1937                   32804         19284                      0\n",
       "1938                   62064         13919                      0"
      ]
     },
     "execution_count": 52,
     "metadata": {},
     "output_type": "execute_result"
    }
   ],
   "source": [
    "banks=banks.groupby(pd.DatetimeIndex(banks['Failure Date']).year).sum().astype('int')\n",
    "banks.head()"
   ]
  },
  {
   "cell_type": "code",
   "execution_count": 53,
   "metadata": {},
   "outputs": [
    {
     "data": {
      "text/html": [
       "<div>\n",
       "<style scoped>\n",
       "    .dataframe tbody tr th:only-of-type {\n",
       "        vertical-align: middle;\n",
       "    }\n",
       "\n",
       "    .dataframe tbody tr th {\n",
       "        vertical-align: top;\n",
       "    }\n",
       "\n",
       "    .dataframe thead th {\n",
       "        text-align: right;\n",
       "    }\n",
       "</style>\n",
       "<table border=\"1\" class=\"dataframe\">\n",
       "  <thead>\n",
       "    <tr style=\"text-align: right;\">\n",
       "      <th></th>\n",
       "      <th>Total Deposits</th>\n",
       "      <th>Total Assets</th>\n",
       "      <th>Estimated Loss (2015)</th>\n",
       "      <th>Failure Date</th>\n",
       "    </tr>\n",
       "  </thead>\n",
       "  <tbody>\n",
       "    <tr>\n",
       "      <th>0</th>\n",
       "      <td>1966</td>\n",
       "      <td>2661</td>\n",
       "      <td>0</td>\n",
       "      <td>1934</td>\n",
       "    </tr>\n",
       "    <tr>\n",
       "      <th>1</th>\n",
       "      <td>13377</td>\n",
       "      <td>12324</td>\n",
       "      <td>0</td>\n",
       "      <td>1935</td>\n",
       "    </tr>\n",
       "    <tr>\n",
       "      <th>2</th>\n",
       "      <td>27762</td>\n",
       "      <td>12927</td>\n",
       "      <td>0</td>\n",
       "      <td>1936</td>\n",
       "    </tr>\n",
       "    <tr>\n",
       "      <th>3</th>\n",
       "      <td>32804</td>\n",
       "      <td>19284</td>\n",
       "      <td>0</td>\n",
       "      <td>1937</td>\n",
       "    </tr>\n",
       "    <tr>\n",
       "      <th>4</th>\n",
       "      <td>62064</td>\n",
       "      <td>13919</td>\n",
       "      <td>0</td>\n",
       "      <td>1938</td>\n",
       "    </tr>\n",
       "  </tbody>\n",
       "</table>\n",
       "</div>"
      ],
      "text/plain": [
       "   Total Deposits  Total Assets  Estimated Loss (2015)  Failure Date\n",
       "0            1966          2661                      0          1934\n",
       "1           13377         12324                      0          1935\n",
       "2           27762         12927                      0          1936\n",
       "3           32804         19284                      0          1937\n",
       "4           62064         13919                      0          1938"
      ]
     },
     "execution_count": 53,
     "metadata": {},
     "output_type": "execute_result"
    }
   ],
   "source": [
    "banks['Failure Date']=banks.index\n",
    "banks=banks.reset_index(drop=True)\n",
    "banks.head()"
   ]
  },
  {
   "cell_type": "code",
   "execution_count": 54,
   "metadata": {},
   "outputs": [
    {
     "data": {
      "text/html": [
       "<div>\n",
       "<style scoped>\n",
       "    .dataframe tbody tr th:only-of-type {\n",
       "        vertical-align: middle;\n",
       "    }\n",
       "\n",
       "    .dataframe tbody tr th {\n",
       "        vertical-align: top;\n",
       "    }\n",
       "\n",
       "    .dataframe thead th {\n",
       "        text-align: right;\n",
       "    }\n",
       "</style>\n",
       "<table border=\"1\" class=\"dataframe\">\n",
       "  <thead>\n",
       "    <tr style=\"text-align: right;\">\n",
       "      <th></th>\n",
       "      <th>Total Deposits</th>\n",
       "      <th>Total Assets</th>\n",
       "      <th>Estimated Loss (2015)</th>\n",
       "      <th>Failure Date</th>\n",
       "      <th>HPI</th>\n",
       "    </tr>\n",
       "  </thead>\n",
       "  <tbody>\n",
       "    <tr>\n",
       "      <th>0</th>\n",
       "      <td>342584</td>\n",
       "      <td>410160</td>\n",
       "      <td>32538</td>\n",
       "      <td>2000</td>\n",
       "      <td>104.767917</td>\n",
       "    </tr>\n",
       "    <tr>\n",
       "      <th>1</th>\n",
       "      <td>1661214</td>\n",
       "      <td>1821760</td>\n",
       "      <td>292465</td>\n",
       "      <td>2001</td>\n",
       "      <td>113.178500</td>\n",
       "    </tr>\n",
       "    <tr>\n",
       "      <th>2</th>\n",
       "      <td>2512834</td>\n",
       "      <td>2872720</td>\n",
       "      <td>415314</td>\n",
       "      <td>2002</td>\n",
       "      <td>122.278250</td>\n",
       "    </tr>\n",
       "    <tr>\n",
       "      <th>3</th>\n",
       "      <td>901978</td>\n",
       "      <td>947317</td>\n",
       "      <td>62646</td>\n",
       "      <td>2003</td>\n",
       "      <td>133.730833</td>\n",
       "    </tr>\n",
       "    <tr>\n",
       "      <th>4</th>\n",
       "      <td>156733</td>\n",
       "      <td>170099</td>\n",
       "      <td>3917</td>\n",
       "      <td>2004</td>\n",
       "      <td>150.439250</td>\n",
       "    </tr>\n",
       "  </tbody>\n",
       "</table>\n",
       "</div>"
      ],
      "text/plain": [
       "   Total Deposits  Total Assets  Estimated Loss (2015)  Failure Date  \\\n",
       "0          342584        410160                  32538          2000   \n",
       "1         1661214       1821760                 292465          2001   \n",
       "2         2512834       2872720                 415314          2002   \n",
       "3          901978        947317                  62646          2003   \n",
       "4          156733        170099                   3917          2004   \n",
       "\n",
       "          HPI  \n",
       "0  104.767917  \n",
       "1  113.178500  \n",
       "2  122.278250  \n",
       "3  133.730833  \n",
       "4  150.439250  "
      ]
     },
     "execution_count": 54,
     "metadata": {},
     "output_type": "execute_result"
    }
   ],
   "source": [
    "banks=banks.merge(HPI.groupby(pd.DatetimeIndex(HPI['Date']).year).mean(), left_on='Failure Date', right_on='Date')\n",
    "banks.head()"
   ]
  },
  {
   "cell_type": "code",
   "execution_count": 55,
   "metadata": {},
   "outputs": [
    {
     "data": {
      "image/png": "[encoded data removed]",
      "text/plain": [
       "<Figure size 432x288 with 2 Axes>"
      ]
     },
     "metadata": {
      "needs_background": "light"
     },
     "output_type": "display_data"
    }
   ],
   "source": [
    "ax = sns.heatmap(\n",
    "    banks.corr(),                                  #Passing arguement whose heatmap is to be made\n",
    "    vmin=-1, vmax=1, center=0,                  #Defining dimensions of heatmap\n",
    "    cmap=sns.diverging_palette(20, 220, n=200), #Defining Colorpalatte for heatmap\n",
    "    square=True\n",
    ")\n",
    "\n",
    "ax.set_xticklabels(\n",
    "    ax.get_xticklabels(),\n",
    "    rotation=45,\n",
    "    horizontalalignment='right'\n",
    ");"
   ]
  },
  {
   "cell_type": "code",
   "execution_count": 56,
   "metadata": {},
   "outputs": [
    {
     "data": {
      "text/html": [
       "<div>\n",
       "<style scoped>\n",
       "    .dataframe tbody tr th:only-of-type {\n",
       "        vertical-align: middle;\n",
       "    }\n",
       "\n",
       "    .dataframe tbody tr th {\n",
       "        vertical-align: top;\n",
       "    }\n",
       "\n",
       "    .dataframe thead th {\n",
       "        text-align: right;\n",
       "    }\n",
       "</style>\n",
       "<table border=\"1\" class=\"dataframe\">\n",
       "  <thead>\n",
       "    <tr style=\"text-align: right;\">\n",
       "      <th></th>\n",
       "      <th>Total Deposits</th>\n",
       "      <th>Total Assets</th>\n",
       "      <th>Estimated Loss (2015)</th>\n",
       "      <th>Failure Date</th>\n",
       "      <th>HPI</th>\n",
       "    </tr>\n",
       "  </thead>\n",
       "  <tbody>\n",
       "    <tr>\n",
       "      <th>Total Deposits</th>\n",
       "      <td>1.000000</td>\n",
       "      <td>0.992116</td>\n",
       "      <td>0.866932</td>\n",
       "      <td>-0.002469</td>\n",
       "      <td>0.089200</td>\n",
       "    </tr>\n",
       "    <tr>\n",
       "      <th>Total Assets</th>\n",
       "      <td>0.992116</td>\n",
       "      <td>1.000000</td>\n",
       "      <td>0.798394</td>\n",
       "      <td>-0.013381</td>\n",
       "      <td>0.106619</td>\n",
       "    </tr>\n",
       "    <tr>\n",
       "      <th>Estimated Loss (2015)</th>\n",
       "      <td>0.866932</td>\n",
       "      <td>0.798394</td>\n",
       "      <td>1.000000</td>\n",
       "      <td>0.038547</td>\n",
       "      <td>0.007116</td>\n",
       "    </tr>\n",
       "    <tr>\n",
       "      <th>Failure Date</th>\n",
       "      <td>-0.002469</td>\n",
       "      <td>-0.013381</td>\n",
       "      <td>0.038547</td>\n",
       "      <td>1.000000</td>\n",
       "      <td>0.794425</td>\n",
       "    </tr>\n",
       "    <tr>\n",
       "      <th>HPI</th>\n",
       "      <td>0.089200</td>\n",
       "      <td>0.106619</td>\n",
       "      <td>0.007116</td>\n",
       "      <td>0.794425</td>\n",
       "      <td>1.000000</td>\n",
       "    </tr>\n",
       "  </tbody>\n",
       "</table>\n",
       "</div>"
      ],
      "text/plain": [
       "                       Total Deposits  Total Assets  Estimated Loss (2015)  \\\n",
       "Total Deposits               1.000000      0.992116               0.866932   \n",
       "Total Assets                 0.992116      1.000000               0.798394   \n",
       "Estimated Loss (2015)        0.866932      0.798394               1.000000   \n",
       "Failure Date                -0.002469     -0.013381               0.038547   \n",
       "HPI                          0.089200      0.106619               0.007116   \n",
       "\n",
       "                       Failure Date       HPI  \n",
       "Total Deposits            -0.002469  0.089200  \n",
       "Total Assets              -0.013381  0.106619  \n",
       "Estimated Loss (2015)      0.038547  0.007116  \n",
       "Failure Date               1.000000  0.794425  \n",
       "HPI                        0.794425  1.000000  "
      ]
     },
     "execution_count": 56,
     "metadata": {},
     "output_type": "execute_result"
    }
   ],
   "source": [
    "banks.corr()"
   ]
  },
  {
   "cell_type": "code",
   "execution_count": 57,
   "metadata": {},
   "outputs": [
    {
     "data": {
      "image/png": "[encoded data removed]",
      "text/plain": [
       "<Figure size 432x288 with 1 Axes>"
      ]
     },
     "metadata": {
      "needs_background": "light"
     },
     "output_type": "display_data"
    }
   ],
   "source": [
    "def plot_basic(df, title='House Price Index vs Bank Failures'):\n",
    "    #Fitting both the values on same scale for comparasion\n",
    "    #Fitting both the values on same scale for comparasion\n",
    "    scaler.fit(df)\n",
    "    df=pd.DataFrame(scaler.transform(df),columns=['Total Deposits','Total Assets','Loss','Failure Date','HPI'])\n",
    "    \n",
    "    #Creating a figure and a subplot to plot the values\n",
    "    fig, ax = plt.subplots()\n",
    "    \n",
    "    #plotting the values on the graph\n",
    "    ax.plot(df['Failure Date'], df['Total Deposits'], 'blue')\n",
    "    ax.plot(df['Failure Date'], df['Total Assets'], 'purple')\n",
    "    ax.plot(df['Failure Date'], df['HPI'], 'red')\n",
    "\n",
    "    # Add title and labels\n",
    "    ax.set_title(title)\n",
    "    plt.show()\n",
    "    \n",
    "plot_basic(banks)"
   ]
  },
  {
   "cell_type": "markdown",
   "metadata": {},
   "source": [
    "# Population"
   ]
  },
  {
   "cell_type": "code",
   "execution_count": 58,
   "metadata": {},
   "outputs": [
    {
     "data": {
      "text/html": [
       "<div>\n",
       "<style scoped>\n",
       "    .dataframe tbody tr th:only-of-type {\n",
       "        vertical-align: middle;\n",
       "    }\n",
       "\n",
       "    .dataframe tbody tr th {\n",
       "        vertical-align: top;\n",
       "    }\n",
       "\n",
       "    .dataframe thead th {\n",
       "        text-align: right;\n",
       "    }\n",
       "</style>\n",
       "<table border=\"1\" class=\"dataframe\">\n",
       "  <thead>\n",
       "    <tr style=\"text-align: right;\">\n",
       "      <th></th>\n",
       "      <th>Country Name</th>\n",
       "      <th>Country Code</th>\n",
       "      <th>Indicator Name</th>\n",
       "      <th>Indicator Code</th>\n",
       "      <th>1960</th>\n",
       "      <th>1961</th>\n",
       "      <th>1962</th>\n",
       "      <th>1963</th>\n",
       "      <th>1964</th>\n",
       "      <th>1965</th>\n",
       "      <th>...</th>\n",
       "      <th>2011</th>\n",
       "      <th>2012</th>\n",
       "      <th>2013</th>\n",
       "      <th>2014</th>\n",
       "      <th>2015</th>\n",
       "      <th>2016</th>\n",
       "      <th>2017</th>\n",
       "      <th>2018</th>\n",
       "      <th>2019</th>\n",
       "      <th>2020</th>\n",
       "    </tr>\n",
       "  </thead>\n",
       "  <tbody>\n",
       "    <tr>\n",
       "      <th>0</th>\n",
       "      <td>Aruba</td>\n",
       "      <td>ABW</td>\n",
       "      <td>Population, total</td>\n",
       "      <td>SP.POP.TOTL</td>\n",
       "      <td>54211.0</td>\n",
       "      <td>55438.0</td>\n",
       "      <td>56225.0</td>\n",
       "      <td>56695.0</td>\n",
       "      <td>57032.0</td>\n",
       "      <td>57360.0</td>\n",
       "      <td>...</td>\n",
       "      <td>102046.0</td>\n",
       "      <td>102560.0</td>\n",
       "      <td>103159.0</td>\n",
       "      <td>103774.0</td>\n",
       "      <td>104341.0</td>\n",
       "      <td>104872.0</td>\n",
       "      <td>105366.0</td>\n",
       "      <td>105845.0</td>\n",
       "      <td>106314.0</td>\n",
       "      <td>NaN</td>\n",
       "    </tr>\n",
       "    <tr>\n",
       "      <th>1</th>\n",
       "      <td>Afghanistan</td>\n",
       "      <td>AFG</td>\n",
       "      <td>Population, total</td>\n",
       "      <td>SP.POP.TOTL</td>\n",
       "      <td>8996973.0</td>\n",
       "      <td>9169410.0</td>\n",
       "      <td>9351441.0</td>\n",
       "      <td>9543205.0</td>\n",
       "      <td>9744781.0</td>\n",
       "      <td>9956320.0</td>\n",
       "      <td>...</td>\n",
       "      <td>30117413.0</td>\n",
       "      <td>31161376.0</td>\n",
       "      <td>32269589.0</td>\n",
       "      <td>33370794.0</td>\n",
       "      <td>34413603.0</td>\n",
       "      <td>35383128.0</td>\n",
       "      <td>36296400.0</td>\n",
       "      <td>37172386.0</td>\n",
       "      <td>38041754.0</td>\n",
       "      <td>NaN</td>\n",
       "    </tr>\n",
       "    <tr>\n",
       "      <th>2</th>\n",
       "      <td>Angola</td>\n",
       "      <td>AGO</td>\n",
       "      <td>Population, total</td>\n",
       "      <td>SP.POP.TOTL</td>\n",
       "      <td>5454933.0</td>\n",
       "      <td>5531472.0</td>\n",
       "      <td>5608539.0</td>\n",
       "      <td>5679458.0</td>\n",
       "      <td>5735044.0</td>\n",
       "      <td>5770570.0</td>\n",
       "      <td>...</td>\n",
       "      <td>24220661.0</td>\n",
       "      <td>25107931.0</td>\n",
       "      <td>26015780.0</td>\n",
       "      <td>26941779.0</td>\n",
       "      <td>27884381.0</td>\n",
       "      <td>28842484.0</td>\n",
       "      <td>29816748.0</td>\n",
       "      <td>30809762.0</td>\n",
       "      <td>31825295.0</td>\n",
       "      <td>NaN</td>\n",
       "    </tr>\n",
       "    <tr>\n",
       "      <th>3</th>\n",
       "      <td>Albania</td>\n",
       "      <td>ALB</td>\n",
       "      <td>Population, total</td>\n",
       "      <td>SP.POP.TOTL</td>\n",
       "      <td>1608800.0</td>\n",
       "      <td>1659800.0</td>\n",
       "      <td>1711319.0</td>\n",
       "      <td>1762621.0</td>\n",
       "      <td>1814135.0</td>\n",
       "      <td>1864791.0</td>\n",
       "      <td>...</td>\n",
       "      <td>2905195.0</td>\n",
       "      <td>2900401.0</td>\n",
       "      <td>2895092.0</td>\n",
       "      <td>2889104.0</td>\n",
       "      <td>2880703.0</td>\n",
       "      <td>2876101.0</td>\n",
       "      <td>2873457.0</td>\n",
       "      <td>2866376.0</td>\n",
       "      <td>2854191.0</td>\n",
       "      <td>NaN</td>\n",
       "    </tr>\n",
       "    <tr>\n",
       "      <th>4</th>\n",
       "      <td>Andorra</td>\n",
       "      <td>AND</td>\n",
       "      <td>Population, total</td>\n",
       "      <td>SP.POP.TOTL</td>\n",
       "      <td>13411.0</td>\n",
       "      <td>14375.0</td>\n",
       "      <td>15370.0</td>\n",
       "      <td>16412.0</td>\n",
       "      <td>17469.0</td>\n",
       "      <td>18549.0</td>\n",
       "      <td>...</td>\n",
       "      <td>83747.0</td>\n",
       "      <td>82427.0</td>\n",
       "      <td>80774.0</td>\n",
       "      <td>79213.0</td>\n",
       "      <td>78011.0</td>\n",
       "      <td>77297.0</td>\n",
       "      <td>77001.0</td>\n",
       "      <td>77006.0</td>\n",
       "      <td>77142.0</td>\n",
       "      <td>NaN</td>\n",
       "    </tr>\n",
       "  </tbody>\n",
       "</table>\n",
       "<p>5 rows × 65 columns</p>\n",
       "</div>"
      ],
      "text/plain": [
       "  Country Name Country Code     Indicator Name Indicator Code       1960  \\\n",
       "0        Aruba          ABW  Population, total    SP.POP.TOTL    54211.0   \n",
       "1  Afghanistan          AFG  Population, total    SP.POP.TOTL  8996973.0   \n",
       "2       Angola          AGO  Population, total    SP.POP.TOTL  5454933.0   \n",
       "3      Albania          ALB  Population, total    SP.POP.TOTL  1608800.0   \n",
       "4      Andorra          AND  Population, total    SP.POP.TOTL    13411.0   \n",
       "\n",
       "        1961       1962       1963       1964       1965  ...        2011  \\\n",
       "0    55438.0    56225.0    56695.0    57032.0    57360.0  ...    102046.0   \n",
       "1  9169410.0  9351441.0  9543205.0  9744781.0  9956320.0  ...  30117413.0   \n",
       "2  5531472.0  5608539.0  5679458.0  5735044.0  5770570.0  ...  24220661.0   \n",
       "3  1659800.0  1711319.0  1762621.0  1814135.0  1864791.0  ...   2905195.0   \n",
       "4    14375.0    15370.0    16412.0    17469.0    18549.0  ...     83747.0   \n",
       "\n",
       "         2012        2013        2014        2015        2016        2017  \\\n",
       "0    102560.0    103159.0    103774.0    104341.0    104872.0    105366.0   \n",
       "1  31161376.0  32269589.0  33370794.0  34413603.0  35383128.0  36296400.0   \n",
       "2  25107931.0  26015780.0  26941779.0  27884381.0  28842484.0  29816748.0   \n",
       "3   2900401.0   2895092.0   2889104.0   2880703.0   2876101.0   2873457.0   \n",
       "4     82427.0     80774.0     79213.0     78011.0     77297.0     77001.0   \n",
       "\n",
       "         2018        2019  2020  \n",
       "0    105845.0    106314.0   NaN  \n",
       "1  37172386.0  38041754.0   NaN  \n",
       "2  30809762.0  31825295.0   NaN  \n",
       "3   2866376.0   2854191.0   NaN  \n",
       "4     77006.0     77142.0   NaN  \n",
       "\n",
       "[5 rows x 65 columns]"
      ]
     },
     "execution_count": 58,
     "metadata": {},
     "output_type": "execute_result"
    }
   ],
   "source": [
    "data_2=pd.read_csv(\"C:\\\\Users\\\\inasu\\\\Downloads\\\\Houses\\\\API_SP.POP.TOTL_DS2_en_csv_v2_2077948.csv\",encoding='latin1')\n",
    "data_2.head()"
   ]
  },
  {
   "cell_type": "code",
   "execution_count": 59,
   "metadata": {},
   "outputs": [],
   "source": [
    "USA_Population=data_2[data_2[\"Country Code\"]=='USA'].drop([\"Country Name\",\"Country Code\",\"Indicator Name\",\"Indicator Code\",\"2020\"],axis=1).T\n",
    "USA_Population[\"Year\"]=USA_Population.index.astype(int)\n",
    "USA_Population[\"Population\"]=USA_Population[249]\n",
    "USA_Population=USA_Population.drop(249,axis=1).reset_index(drop=True)"
   ]
  },
  {
   "cell_type": "code",
   "execution_count": 60,
   "metadata": {},
   "outputs": [
    {
     "data": {
      "text/html": [
       "<div>\n",
       "<style scoped>\n",
       "    .dataframe tbody tr th:only-of-type {\n",
       "        vertical-align: middle;\n",
       "    }\n",
       "\n",
       "    .dataframe tbody tr th {\n",
       "        vertical-align: top;\n",
       "    }\n",
       "\n",
       "    .dataframe thead th {\n",
       "        text-align: right;\n",
       "    }\n",
       "</style>\n",
       "<table border=\"1\" class=\"dataframe\">\n",
       "  <thead>\n",
       "    <tr style=\"text-align: right;\">\n",
       "      <th></th>\n",
       "      <th>Year</th>\n",
       "      <th>Population</th>\n",
       "    </tr>\n",
       "  </thead>\n",
       "  <tbody>\n",
       "    <tr>\n",
       "      <th>0</th>\n",
       "      <td>1960</td>\n",
       "      <td>180671000.0</td>\n",
       "    </tr>\n",
       "    <tr>\n",
       "      <th>1</th>\n",
       "      <td>1961</td>\n",
       "      <td>183691000.0</td>\n",
       "    </tr>\n",
       "    <tr>\n",
       "      <th>2</th>\n",
       "      <td>1962</td>\n",
       "      <td>186538000.0</td>\n",
       "    </tr>\n",
       "    <tr>\n",
       "      <th>3</th>\n",
       "      <td>1963</td>\n",
       "      <td>189242000.0</td>\n",
       "    </tr>\n",
       "    <tr>\n",
       "      <th>4</th>\n",
       "      <td>1964</td>\n",
       "      <td>191889000.0</td>\n",
       "    </tr>\n",
       "  </tbody>\n",
       "</table>\n",
       "</div>"
      ],
      "text/plain": [
       "   Year   Population\n",
       "0  1960  180671000.0\n",
       "1  1961  183691000.0\n",
       "2  1962  186538000.0\n",
       "3  1963  189242000.0\n",
       "4  1964  191889000.0"
      ]
     },
     "execution_count": 60,
     "metadata": {},
     "output_type": "execute_result"
    }
   ],
   "source": [
    "USA_Population.head()"
   ]
  },
  {
   "cell_type": "code",
   "execution_count": 61,
   "metadata": {},
   "outputs": [
    {
     "data": {
      "text/html": [
       "<div>\n",
       "<style scoped>\n",
       "    .dataframe tbody tr th:only-of-type {\n",
       "        vertical-align: middle;\n",
       "    }\n",
       "\n",
       "    .dataframe tbody tr th {\n",
       "        vertical-align: top;\n",
       "    }\n",
       "\n",
       "    .dataframe thead th {\n",
       "        text-align: right;\n",
       "    }\n",
       "</style>\n",
       "<table border=\"1\" class=\"dataframe\">\n",
       "  <thead>\n",
       "    <tr style=\"text-align: right;\">\n",
       "      <th></th>\n",
       "      <th>Year</th>\n",
       "      <th>Population</th>\n",
       "      <th>HPI</th>\n",
       "    </tr>\n",
       "  </thead>\n",
       "  <tbody>\n",
       "    <tr>\n",
       "      <th>0</th>\n",
       "      <td>2000</td>\n",
       "      <td>282162411.0</td>\n",
       "      <td>104.767917</td>\n",
       "    </tr>\n",
       "    <tr>\n",
       "      <th>1</th>\n",
       "      <td>2001</td>\n",
       "      <td>284968955.0</td>\n",
       "      <td>113.178500</td>\n",
       "    </tr>\n",
       "    <tr>\n",
       "      <th>2</th>\n",
       "      <td>2002</td>\n",
       "      <td>287625193.0</td>\n",
       "      <td>122.278250</td>\n",
       "    </tr>\n",
       "    <tr>\n",
       "      <th>3</th>\n",
       "      <td>2003</td>\n",
       "      <td>290107933.0</td>\n",
       "      <td>133.730833</td>\n",
       "    </tr>\n",
       "    <tr>\n",
       "      <th>4</th>\n",
       "      <td>2004</td>\n",
       "      <td>292805298.0</td>\n",
       "      <td>150.439250</td>\n",
       "    </tr>\n",
       "  </tbody>\n",
       "</table>\n",
       "</div>"
      ],
      "text/plain": [
       "   Year   Population         HPI\n",
       "0  2000  282162411.0  104.767917\n",
       "1  2001  284968955.0  113.178500\n",
       "2  2002  287625193.0  122.278250\n",
       "3  2003  290107933.0  133.730833\n",
       "4  2004  292805298.0  150.439250"
      ]
     },
     "execution_count": 61,
     "metadata": {},
     "output_type": "execute_result"
    }
   ],
   "source": [
    "USA_Population=USA_Population.merge(HPI.groupby(pd.DatetimeIndex(HPI['Date']).year).mean(), left_on='Year', right_on='Date')\n",
    "USA_Population.head()"
   ]
  },
  {
   "cell_type": "code",
   "execution_count": 62,
   "metadata": {},
   "outputs": [
    {
     "data": {
      "image/png": "[encoded data removed]",
      "text/plain": [
       "<Figure size 432x288 with 1 Axes>"
      ]
     },
     "metadata": {
      "needs_background": "light"
     },
     "output_type": "display_data"
    }
   ],
   "source": [
    "def plot_basic(df, title='House Price Index vs Population'):\n",
    "    #Fitting both the values on same scale for comparasion\n",
    "    #Fitting both the values on same scale for comparasion\n",
    "    scaler.fit(df)\n",
    "    df=pd.DataFrame(scaler.transform(df))\n",
    "    \n",
    "    #Creating a figure and a subplot to plot the values\n",
    "    fig, ax = plt.subplots()\n",
    "    \n",
    "    #plotting the values on the graph\n",
    "    ax.plot(df[0], df[1], 'blue')\n",
    "    ax.plot(df[0], df[2], 'red')\n",
    "\n",
    "    # Add title and labels\n",
    "    ax.set_title(title)\n",
    "    plt.show()\n",
    "    \n",
    "plot_basic(USA_Population)"
   ]
  },
  {
   "cell_type": "code",
   "execution_count": 63,
   "metadata": {},
   "outputs": [
    {
     "data": {
      "text/html": [
       "<div>\n",
       "<style scoped>\n",
       "    .dataframe tbody tr th:only-of-type {\n",
       "        vertical-align: middle;\n",
       "    }\n",
       "\n",
       "    .dataframe tbody tr th {\n",
       "        vertical-align: top;\n",
       "    }\n",
       "\n",
       "    .dataframe thead th {\n",
       "        text-align: right;\n",
       "    }\n",
       "</style>\n",
       "<table border=\"1\" class=\"dataframe\">\n",
       "  <thead>\n",
       "    <tr style=\"text-align: right;\">\n",
       "      <th></th>\n",
       "      <th>Year</th>\n",
       "      <th>Population</th>\n",
       "      <th>HPI</th>\n",
       "    </tr>\n",
       "  </thead>\n",
       "  <tbody>\n",
       "    <tr>\n",
       "      <th>Year</th>\n",
       "      <td>1.000000</td>\n",
       "      <td>0.998119</td>\n",
       "      <td>0.755706</td>\n",
       "    </tr>\n",
       "    <tr>\n",
       "      <th>Population</th>\n",
       "      <td>0.998119</td>\n",
       "      <td>1.000000</td>\n",
       "      <td>0.744977</td>\n",
       "    </tr>\n",
       "    <tr>\n",
       "      <th>HPI</th>\n",
       "      <td>0.755706</td>\n",
       "      <td>0.744977</td>\n",
       "      <td>1.000000</td>\n",
       "    </tr>\n",
       "  </tbody>\n",
       "</table>\n",
       "</div>"
      ],
      "text/plain": [
       "                Year  Population       HPI\n",
       "Year        1.000000    0.998119  0.755706\n",
       "Population  0.998119    1.000000  0.744977\n",
       "HPI         0.755706    0.744977  1.000000"
      ]
     },
     "execution_count": 63,
     "metadata": {},
     "output_type": "execute_result"
    }
   ],
   "source": [
    "USA_Population.corr()"
   ]
  },
  {
   "cell_type": "code",
   "execution_count": 64,
   "metadata": {},
   "outputs": [
    {
     "data": {
      "image/png": "[encoded data removed]",
      "text/plain": [
       "<Figure size 432x288 with 2 Axes>"
      ]
     },
     "metadata": {
      "needs_background": "light"
     },
     "output_type": "display_data"
    }
   ],
   "source": [
    "ax = sns.heatmap(\n",
    "    USA_Population.corr(),                                  #Passing arguement whose heatmap is to be made\n",
    "    vmin=-1, vmax=1, center=0,                  #Defining dimensions of heatmap\n",
    "    cmap=sns.diverging_palette(20, 220, n=200), #Defining Colorpalatte for heatmap\n",
    "    square=True\n",
    ")\n",
    "\n",
    "ax.set_xticklabels(\n",
    "    ax.get_xticklabels(),\n",
    "    rotation=45,\n",
    "    horizontalalignment='right'\n",
    ");"
   ]
  },
  {
   "cell_type": "markdown",
   "metadata": {},
   "source": [
    "We can say that population is a good predictor for house prices"
   ]
  }
 ],
 "metadata": {
  "kernelspec": {
   "display_name": "Python 3",
   "language": "python",
   "name": "python3"
  },
  "language_info": {
   "codemirror_mode": {
    "name": "ipython",
    "version": 3
   },
   "file_extension": ".py",
   "mimetype": "text/x-python",
   "name": "python",
   "nbconvert_exporter": "python",
   "pygments_lexer": "ipython3",
   "version": "3.8.5"
  }
 },
 "nbformat": 4,
 "nbformat_minor": 4
}
